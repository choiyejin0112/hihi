{
 "cells": [
  {
   "cell_type": "code",
   "execution_count": 1,
   "id": "0ede4eaf",
   "metadata": {
    "scrolled": true
   },
   "outputs": [
    {
     "name": "stdout",
     "output_type": "stream",
     "text": [
      "4\n",
      "2 1 0\n",
      "0 1\n",
      "0\n",
      "5 4 2\n",
      "2 4\n",
      "3 2\n",
      "3 1\n",
      "0 4\n",
      "0\n",
      "7 9 6\n",
      "0 1\n",
      "0 2\n",
      "4 5\n",
      "0 4\n",
      "0 5\n",
      "2 4\n",
      "1 4\n",
      "1 5\n",
      "6 3\n",
      "5\n",
      "10 12 5\n",
      "1 5\n",
      "8 1\n",
      "8 6\n",
      "4 8\n",
      "9 7\n",
      "4 6\n",
      "1 3\n",
      "3 7\n",
      "5 6\n",
      "9 8\n",
      "5 9\n",
      "7 4\n",
      "2\n"
     ]
    }
   ],
   "source": [
    "T = int(input())\n",
    "\n",
    "for _ in range(T):\n",
    "    N,M,K = map(int,input().split())\n",
    "    List = [[] for _ in range(N)]\n",
    "    for i in range(M):\n",
    "        u,v = map(int,input().split())\n",
    "        List[u].append(v)\n",
    "        List[v].append(u)\n",
    "        \n",
    "    check = [False]*N   \n",
    "    Stack = [K]   \n",
    "    check[K] = True\n",
    "    count = 0\n",
    "    \n",
    "    while Stack:\n",
    "        v = Stack.pop()\n",
    "        count += 1\n",
    "        \n",
    "        for i in List[v]: \n",
    "            if not check[i]:\n",
    "                check[i] = True \n",
    "                Stack.append(i) \n",
    "                \n",
    "    unvisited = []\n",
    "    for i in range(N):\n",
    "        if not check[i]:   \n",
    "            unvisited.append(i)\n",
    "                   \n",
    "    print(len(unvisited))\n"
   ]
  },
  {
   "cell_type": "code",
   "execution_count": null,
   "id": "5ad482d9",
   "metadata": {},
   "outputs": [],
   "source": []
  }
 ],
 "metadata": {
  "kernelspec": {
   "display_name": "Python 3 (ipykernel)",
   "language": "python",
   "name": "python3"
  },
  "language_info": {
   "codemirror_mode": {
    "name": "ipython",
    "version": 3
   },
   "file_extension": ".py",
   "mimetype": "text/x-python",
   "name": "python",
   "nbconvert_exporter": "python",
   "pygments_lexer": "ipython3",
   "version": "3.10.9"
  }
 },
 "nbformat": 4,
 "nbformat_minor": 5
}
