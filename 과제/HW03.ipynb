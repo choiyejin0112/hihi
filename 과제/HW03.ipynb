{
 "cells": [
  {
   "cell_type": "code",
   "execution_count": 6,
   "id": "dc8abe39",
   "metadata": {},
   "outputs": [
    {
     "name": "stdout",
     "output_type": "stream",
     "text": [
      "3\n",
      "1 1 2 1 1 2\n",
      "12\n",
      "1 2\n",
      "3\n",
      "1 2 2 1 1 2 2\n",
      "32\n"
     ]
    }
   ],
   "source": [
    "t = int(input())\n",
    "\n",
    "for _ in range(t):\n",
    "    nums = list(map(int,input().split()))    \n",
    "    result = nums[0]\n",
    "    \n",
    "    for i in range(1, len(nums)):\n",
    "        if nums[i] == 1 or result == 1:\n",
    "            result += nums[i]\n",
    "        else:\n",
    "            result *= nums[i]\n",
    "\n",
    "        result = result % 120509130217\n",
    "\n",
    "    print(result % 120509130217)"
   ]
  },
  {
   "cell_type": "code",
   "execution_count": null,
   "id": "41fbc2f0",
   "metadata": {},
   "outputs": [],
   "source": []
  }
 ],
 "metadata": {
  "kernelspec": {
   "display_name": "Python 3 (ipykernel)",
   "language": "python",
   "name": "python3"
  },
  "language_info": {
   "codemirror_mode": {
    "name": "ipython",
    "version": 3
   },
   "file_extension": ".py",
   "mimetype": "text/x-python",
   "name": "python",
   "nbconvert_exporter": "python",
   "pygments_lexer": "ipython3",
   "version": "3.10.9"
  }
 },
 "nbformat": 4,
 "nbformat_minor": 5
}
