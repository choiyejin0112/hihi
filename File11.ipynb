{
 "cells": [
  {
   "cell_type": "code",
   "execution_count": 1,
   "id": "94f5164f",
   "metadata": {},
   "outputs": [],
   "source": [
    "fw=open(\"yejin.txt\",\"w\")"
   ]
  },
  {
   "cell_type": "code",
   "execution_count": 2,
   "id": "39c96a60",
   "metadata": {},
   "outputs": [
    {
     "data": {
      "text/plain": [
       "8"
      ]
     },
     "execution_count": 2,
     "metadata": {},
     "output_type": "execute_result"
    }
   ],
   "source": [
    "fw.write(\"Hi hello\")"
   ]
  },
  {
   "cell_type": "code",
   "execution_count": 3,
   "id": "c4aa0cdf",
   "metadata": {},
   "outputs": [],
   "source": [
    "fw.close()"
   ]
  },
  {
   "cell_type": "code",
   "execution_count": 4,
   "id": "10050d84",
   "metadata": {},
   "outputs": [],
   "source": [
    "fw=open(\"yejin.txt\",\"w\")\n",
    "\n",
    "for i in range(1,6):\n",
    "    data=\"%d line\\n\" % i\n",
    "    fw.write(data)\n",
    "    \n",
    "fw.close() "
   ]
  },
  {
   "cell_type": "code",
   "execution_count": 5,
   "id": "e92c7437",
   "metadata": {},
   "outputs": [],
   "source": [
    "fw=open(\"yejin.txt\",\"a\")\n",
    "\n",
    "for i in range(6,11):\n",
    "    data = \"%d line\\n\" % i\n",
    "    fw.write(data)\n",
    "    \n",
    "fw.close()"
   ]
  },
  {
   "cell_type": "code",
   "execution_count": 6,
   "id": "e170fc70",
   "metadata": {},
   "outputs": [
    {
     "name": "stdout",
     "output_type": "stream",
     "text": [
      "1 line\n"
     ]
    }
   ],
   "source": [
    "fw=open(\"yejin.txt\",\"r\")\n",
    "line = fw.readline()\n",
    "print(line, end=\"\")\n",
    "fw.close()"
   ]
  },
  {
   "cell_type": "code",
   "execution_count": 8,
   "id": "5396c91a",
   "metadata": {},
   "outputs": [
    {
     "name": "stdout",
     "output_type": "stream",
     "text": [
      "Enter a file name:\n",
      "yejin.txt\n"
     ]
    }
   ],
   "source": [
    "print(\"Enter a file name:\")\n",
    "a = input()\n",
    "\n",
    "fw=open()"
   ]
  },
  {
   "cell_type": "code",
   "execution_count": 10,
   "id": "bd194290",
   "metadata": {},
   "outputs": [
    {
     "name": "stdout",
     "output_type": "stream",
     "text": [
      "Enter a file name:test.txt\n"
     ]
    }
   ],
   "source": [
    "filename = input(\"Enter a file name:\")"
   ]
  },
  {
   "cell_type": "code",
   "execution_count": 11,
   "id": "ccaa13d2",
   "metadata": {},
   "outputs": [
    {
     "data": {
      "text/plain": [
       "'test.txt'"
      ]
     },
     "execution_count": 11,
     "metadata": {},
     "output_type": "execute_result"
    }
   ],
   "source": [
    "filename"
   ]
  },
  {
   "cell_type": "markdown",
   "id": "11df0e60",
   "metadata": {},
   "source": [
    "## 파일"
   ]
  },
  {
   "cell_type": "markdown",
   "id": "b98f7ff9",
   "metadata": {},
   "source": [
    "### 실습1"
   ]
  },
  {
   "cell_type": "code",
   "execution_count": 3,
   "id": "e9ca4f63",
   "metadata": {},
   "outputs": [
    {
     "name": "stdout",
     "output_type": "stream",
     "text": [
      "Enter a file name:yujin.txt\n",
      "파일이 존재하지 않는다\n"
     ]
    }
   ],
   "source": [
    "import os\n",
    "\n",
    "filename = input(\"Enter a file name:\")\n",
    "\n",
    "if os.path.isfile(filename) == True :\n",
    "    fr = open(filename, \"r\")\n",
    "    while True:\n",
    "        \n",
    "        data = fr.readline()\n",
    "        if data == \"\":\n",
    "            break\n",
    "        print(data.upper(), end=\"\")\n",
    "else:\n",
    "    print(\"파일이 존재하지 않는다\")\n",
    "\n",
    "fr.close()"
   ]
  },
  {
   "cell_type": "code",
   "execution_count": 4,
   "id": "86a7f6a5",
   "metadata": {},
   "outputs": [
    {
     "name": "stdout",
     "output_type": "stream",
     "text": [
      "Enter a file name:yejin.txt\n",
      "FIRST LINE\n",
      "SECOND LINE\n",
      "THIRD LINE\n"
     ]
    }
   ],
   "source": [
    "import os\n",
    "\n",
    "filename = input(\"Enter a file name:\")\n",
    "\n",
    "if os.path.isfile(filename) == True :\n",
    "    fr = open(filename, \"r\")\n",
    "    for data in fr:\n",
    "        print(data.upper(),end=\"\")\n",
    "else:\n",
    "    print(\"파일이 존재하지 않는다\")\n",
    "\n",
    "fr.close()"
   ]
  },
  {
   "cell_type": "code",
   "execution_count": 47,
   "id": "f83918e3",
   "metadata": {},
   "outputs": [],
   "source": [
    "fr = open(\"score.txt\", \"r\")\n",
    "score = fr.readlines()\n",
    "for data in score:\n",
    "    data.split()"
   ]
  },
  {
   "cell_type": "code",
   "execution_count": 28,
   "id": "68580672",
   "metadata": {
    "scrolled": true
   },
   "outputs": [
    {
     "ename": "AttributeError",
     "evalue": "'list' object has no attribute 'split'",
     "output_type": "error",
     "traceback": [
      "\u001b[0;31m---------------------------------------------------------------------------\u001b[0m",
      "\u001b[0;31mAttributeError\u001b[0m                            Traceback (most recent call last)",
      "Cell \u001b[0;32mIn[28], line 1\u001b[0m\n\u001b[0;32m----> 1\u001b[0m \u001b[43mscore\u001b[49m\u001b[38;5;241;43m.\u001b[39;49m\u001b[43msplit\u001b[49m()\n",
      "\u001b[0;31mAttributeError\u001b[0m: 'list' object has no attribute 'split'"
     ]
    }
   ],
   "source": []
  },
  {
   "cell_type": "code",
   "execution_count": 88,
   "id": "9331311e",
   "metadata": {},
   "outputs": [],
   "source": [
    "fr = open(\"score.txt\", \"r\")\n",
    "fw = open(\"zz.txt\",\"w\") \n",
    "score = fr.readlines()\n",
    "for data in score:\n",
    "    s,m,f = [int(e) for e in data.split() ]\n",
    "    #data.split()\n",
    "    avg = (int(data.split()[1])+int(data.split()[2]))/2\n",
    "    if avg >= 90:\n",
    "        grade = 'A'\n",
    "    elif avg >= 80:\n",
    "        grade = 'B'\n",
    "    elif avg >= 70:\n",
    "        grade = 'C'\n",
    "    elif avg >= 60:\n",
    "        grade = 'D'\n",
    "    else:\n",
    "        grade = 'F'\n",
    "    \n",
    "    st = '%d %.1f (%s)\\n' %(s, avg, grade)\n",
    "    fw.write(st)\n",
    "fw.close()"
   ]
  },
  {
   "cell_type": "code",
   "execution_count": 89,
   "id": "91d3c066",
   "metadata": {},
   "outputs": [
    {
     "data": {
      "text/plain": [
       "['202305', '98', '99']"
      ]
     },
     "execution_count": 89,
     "metadata": {},
     "output_type": "execute_result"
    }
   ],
   "source": [
    "data.split()"
   ]
  },
  {
   "cell_type": "code",
   "execution_count": null,
   "id": "f91ddc71",
   "metadata": {},
   "outputs": [],
   "source": []
  }
 ],
 "metadata": {
  "kernelspec": {
   "display_name": "Python 3 (ipykernel)",
   "language": "python",
   "name": "python3"
  },
  "language_info": {
   "codemirror_mode": {
    "name": "ipython",
    "version": 3
   },
   "file_extension": ".py",
   "mimetype": "text/x-python",
   "name": "python",
   "nbconvert_exporter": "python",
   "pygments_lexer": "ipython3",
   "version": "3.10.9"
  }
 },
 "nbformat": 4,
 "nbformat_minor": 5
}
