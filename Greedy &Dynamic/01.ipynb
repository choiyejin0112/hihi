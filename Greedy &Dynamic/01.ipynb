{
 "cells": [
  {
   "cell_type": "code",
   "execution_count": 1,
   "id": "5721d466",
   "metadata": {},
   "outputs": [
    {
     "name": "stdout",
     "output_type": "stream",
     "text": [
      "4\n",
      "200\n",
      "2\n",
      "700\n",
      "3\n",
      "7900\n",
      "8\n",
      "53200\n",
      "6\n"
     ]
    }
   ],
   "source": [
    "t =  int(input())\n",
    "for _ in range(t):\n",
    "    n = int(input())\n",
    "    coins = [50000,10000,5000,1000,500,100]\n",
    "    coinnum = 0\n",
    "    for coin in coins:\n",
    "        coinnum += n//coin\n",
    "        n %= coin\n",
    "    print(coinnum)"
   ]
  },
  {
   "cell_type": "code",
   "execution_count": null,
   "id": "f49abc01",
   "metadata": {},
   "outputs": [],
   "source": []
  }
 ],
 "metadata": {
  "kernelspec": {
   "display_name": "Python 3 (ipykernel)",
   "language": "python",
   "name": "python3"
  },
  "language_info": {
   "codemirror_mode": {
    "name": "ipython",
    "version": 3
   },
   "file_extension": ".py",
   "mimetype": "text/x-python",
   "name": "python",
   "nbconvert_exporter": "python",
   "pygments_lexer": "ipython3",
   "version": "3.10.9"
  }
 },
 "nbformat": 4,
 "nbformat_minor": 5
}
