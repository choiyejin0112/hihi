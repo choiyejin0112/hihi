{
 "cells": [
  {
   "cell_type": "code",
   "execution_count": 1,
   "id": "e3ed4a85",
   "metadata": {},
   "outputs": [
    {
     "name": "stdout",
     "output_type": "stream",
     "text": [
      "2\n",
      "3 4\n",
      "4 0 0 0\n",
      "0 2 3 4\n",
      "1 3 5 2\n",
      "9\n",
      "3 5\n",
      "1 1 2 1 1\n",
      "1 2 1 2 1\n",
      "1 1 1 1 1\n",
      "5\n"
     ]
    }
   ],
   "source": [
    "for _ in range(int(input())):\n",
    "    n,m = map(int,input().split())\n",
    "    data = []\n",
    "    for i in range(n):\n",
    "        data.append(list(map(int,input().split())))\n",
    "    #\n",
    "    T = [[0]*m for i in range(n)]\n",
    "    for i in range(n):\n",
    "        for j in range(m):\n",
    "            if i == 0 and j ==0:\n",
    "                T[i][j] = data[i][j]\n",
    "            elif i == 0:\n",
    "                T[i][j] = T[i][j-1] + data[i][j]\n",
    "            elif j == 0:\n",
    "                T[i][j] = T[i-1][j] + data[i][j]\n",
    "            else:\n",
    "                T[i][j] = min(T[i][j-1],T[i-1][j],T[i-1][j-1]) + data[i][j]\n",
    "    print(T[n-1][m-1])"
   ]
  },
  {
   "cell_type": "code",
   "execution_count": null,
   "id": "3019681f",
   "metadata": {},
   "outputs": [],
   "source": []
  }
 ],
 "metadata": {
  "kernelspec": {
   "display_name": "Python 3 (ipykernel)",
   "language": "python",
   "name": "python3"
  },
  "language_info": {
   "codemirror_mode": {
    "name": "ipython",
    "version": 3
   },
   "file_extension": ".py",
   "mimetype": "text/x-python",
   "name": "python",
   "nbconvert_exporter": "python",
   "pygments_lexer": "ipython3",
   "version": "3.10.9"
  }
 },
 "nbformat": 4,
 "nbformat_minor": 5
}
