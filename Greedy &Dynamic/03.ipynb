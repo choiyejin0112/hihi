{
 "cells": [
  {
   "cell_type": "code",
   "execution_count": 3,
   "id": "624fadc1",
   "metadata": {},
   "outputs": [
    {
     "name": "stdout",
     "output_type": "stream",
     "text": [
      "6\n",
      "1\n",
      "1\n",
      "2\n",
      "1\n",
      "4\n",
      "3\n",
      "7\n",
      "13\n",
      "50\n",
      "12586269025\n",
      "200\n",
      "280571172992510140037611932413038677189525\n"
     ]
    }
   ],
   "source": [
    "t = int(input())\n",
    "\n",
    "for _ in range(t):\n",
    "    n = int(input())\n",
    "    fib = [0] * (n+1)\n",
    "    for i in range(1,n+1):\n",
    "        if i == 1 or i == 2:\n",
    "            fib[i]=1\n",
    "        else:\n",
    "            fib[i] = fib[i-1] + fib[i-2]\n",
    "    print(fib[n])"
   ]
  },
  {
   "cell_type": "code",
   "execution_count": null,
   "id": "426aa6a9",
   "metadata": {},
   "outputs": [],
   "source": []
  }
 ],
 "metadata": {
  "kernelspec": {
   "display_name": "Python 3 (ipykernel)",
   "language": "python",
   "name": "python3"
  },
  "language_info": {
   "codemirror_mode": {
    "name": "ipython",
    "version": 3
   },
   "file_extension": ".py",
   "mimetype": "text/x-python",
   "name": "python",
   "nbconvert_exporter": "python",
   "pygments_lexer": "ipython3",
   "version": "3.10.9"
  }
 },
 "nbformat": 4,
 "nbformat_minor": 5
}
