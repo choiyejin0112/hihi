{
 "cells": [
  {
   "cell_type": "markdown",
   "id": "30bb7d03",
   "metadata": {},
   "source": [
    "## 실습1"
   ]
  },
  {
   "cell_type": "markdown",
   "id": "1c7cb173",
   "metadata": {},
   "source": [
    "### 무한반복"
   ]
  },
  {
   "cell_type": "code",
   "execution_count": 9,
   "id": "f467562f",
   "metadata": {},
   "outputs": [
    {
     "name": "stdout",
     "output_type": "stream",
     "text": [
      "Enter a file name:test.txt\n",
      "FIRST LINE\n",
      "SECOND LINE\n",
      "THIRD LINE"
     ]
    }
   ],
   "source": [
    "import os\n",
    "\n",
    "filename = input(\"Enter a file name:\")\n",
    "\n",
    "if os.path.isfile(filename) == True :\n",
    "    fr = open(filename, \"r\")\n",
    "    while True:\n",
    "        \n",
    "        data = fr.readline()\n",
    "        if data == \"\":\n",
    "            break\n",
    "        print(data.upper(), end=\"\")\n",
    "else:\n",
    "    print(\"파일이 존재하지 않는다\")\n",
    "\n",
    "fr.close()"
   ]
  },
  {
   "cell_type": "markdown",
   "id": "a463e8be",
   "metadata": {},
   "source": [
    "### for문"
   ]
  },
  {
   "cell_type": "code",
   "execution_count": 5,
   "id": "943df00e",
   "metadata": {},
   "outputs": [
    {
     "name": "stdout",
     "output_type": "stream",
     "text": [
      "Enter a file name:yejinkl.txt\n",
      "파일이 존재하지 않는다\n"
     ]
    }
   ],
   "source": [
    "import os\n",
    "\n",
    "filename = input(\"Enter a file name:\")\n",
    "\n",
    "if os.path.isfile(filename) == True :\n",
    "    fr = open(filename, \"r\")\n",
    "    for data in fr:\n",
    "        print(data.upper(),end=\"\")\n",
    "else:\n",
    "    print(\"파일이 존재하지 않는다\")\n",
    "\n",
    "fr.close()"
   ]
  },
  {
   "cell_type": "markdown",
   "id": "564ed401",
   "metadata": {},
   "source": [
    "## 실습2"
   ]
  },
  {
   "cell_type": "code",
   "execution_count": 10,
   "id": "a4dc978b",
   "metadata": {},
   "outputs": [],
   "source": [
    "fr = open(\"score.txt\", \"r\")\n",
    "fw = open(\"report.txt\",\"w\") \n",
    "score = fr.readlines()\n",
    "for data in score:\n",
    "    s,m,f = [int(e) for e in data.split() ]\n",
    "    #data.split()\n",
    "    avg = (int(data.split()[1])+int(data.split()[2]))/2\n",
    "    if avg >= 90:\n",
    "        grade = 'A'\n",
    "    elif avg >= 80:\n",
    "        grade = 'B'\n",
    "    elif avg >= 70:\n",
    "        grade = 'C'\n",
    "    elif avg >= 60:\n",
    "        grade = 'D'\n",
    "    else:\n",
    "        grade = 'F'\n",
    "    \n",
    "    st = '%d %.1f (%s)\\n' %(s, avg, grade)\n",
    "    fw.write(st)\n",
    "fw.close()"
   ]
  },
  {
   "cell_type": "code",
   "execution_count": null,
   "id": "d30c054f",
   "metadata": {},
   "outputs": [],
   "source": []
  }
 ],
 "metadata": {
  "kernelspec": {
   "display_name": "Python 3 (ipykernel)",
   "language": "python",
   "name": "python3"
  },
  "language_info": {
   "codemirror_mode": {
    "name": "ipython",
    "version": 3
   },
   "file_extension": ".py",
   "mimetype": "text/x-python",
   "name": "python",
   "nbconvert_exporter": "python",
   "pygments_lexer": "ipython3",
   "version": "3.10.9"
  }
 },
 "nbformat": 4,
 "nbformat_minor": 5
}
