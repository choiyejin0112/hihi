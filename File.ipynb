{
 "cells": [
  {
   "cell_type": "code",
   "execution_count": 21,
   "id": "7bcc0e73",
   "metadata": {},
   "outputs": [],
   "source": [
    "fw = open(\"new.txt\",\"w\")"
   ]
  },
  {
   "cell_type": "code",
   "execution_count": 22,
   "id": "28a79df3",
   "metadata": {},
   "outputs": [],
   "source": [
    "#fw.write(\"Python is fun\") "
   ]
  },
  {
   "cell_type": "code",
   "execution_count": 23,
   "id": "ea8918d3",
   "metadata": {},
   "outputs": [],
   "source": [
    "#fw.close()  #쓰기모드는 닫기 필수// 그래야 써짐"
   ]
  },
  {
   "cell_type": "code",
   "execution_count": 24,
   "id": "cf120543",
   "metadata": {},
   "outputs": [],
   "source": [
    "for i in range(1,6):\n",
    "    data=\"%d line\\n\" % i\n",
    "    fw.write(data)\n",
    "fw.close()    "
   ]
  },
  {
   "cell_type": "code",
   "execution_count": 25,
   "id": "281e5073",
   "metadata": {},
   "outputs": [],
   "source": [
    "fw = open(\"new.txt\",\"a\") #append모드\n",
    "for i in range(11,16):\n",
    "    data=\"%d line\\n\" % i\n",
    "    fw.write(data)\n",
    "fw.close()    "
   ]
  },
  {
   "cell_type": "code",
   "execution_count": 28,
   "id": "72d620e7",
   "metadata": {},
   "outputs": [
    {
     "name": "stdout",
     "output_type": "stream",
     "text": [
      "\n"
     ]
    }
   ],
   "source": [
    "with open(\"new.txt\",\"w\") as fw:      #오픈한채로\n",
    "    for i in range(1,6):             #들여쓰기주의\n",
    "        data=\"%d line\\n\" % i         #들여쓰기주의\n",
    "        fw.write(data)\n",
    "    \n",
    "print()"
   ]
  },
  {
   "cell_type": "code",
   "execution_count": 41,
   "id": "1c587ed7",
   "metadata": {},
   "outputs": [],
   "source": [
    "fr = open(\"new.txt\",\"r\")"
   ]
  },
  {
   "cell_type": "code",
   "execution_count": 52,
   "id": "6d764822",
   "metadata": {},
   "outputs": [
    {
     "data": {
      "text/plain": [
       "''"
      ]
     },
     "execution_count": 52,
     "metadata": {},
     "output_type": "execute_result"
    }
   ],
   "source": [
    "line = fr.readline()\n",
    "line"
   ]
  },
  {
   "cell_type": "code",
   "execution_count": 53,
   "id": "03dac77a",
   "metadata": {},
   "outputs": [
    {
     "data": {
      "text/plain": [
       "35"
      ]
     },
     "execution_count": 53,
     "metadata": {},
     "output_type": "execute_result"
    }
   ],
   "source": [
    "fr.tell()   #위치"
   ]
  },
  {
   "cell_type": "code",
   "execution_count": 54,
   "id": "08b06f34",
   "metadata": {},
   "outputs": [],
   "source": [
    "fr.close()"
   ]
  },
  {
   "cell_type": "code",
   "execution_count": 56,
   "id": "d1e93502",
   "metadata": {},
   "outputs": [
    {
     "name": "stdout",
     "output_type": "stream",
     "text": [
      "1 line\n",
      "2 line\n",
      "3 line\n",
      "4 line\n",
      "5 line\n"
     ]
    }
   ],
   "source": [
    "fr = open(\"new.txt\",\"r\")\n",
    "while True :  #참인동안 무한반복\n",
    "    line = fr.readline()\n",
    "    if line == \"\":\n",
    "        break\n",
    "    print(line, end=\"\")\n",
    "    \n",
    "fr.close()"
   ]
  },
  {
   "cell_type": "code",
   "execution_count": 57,
   "id": "37376e58",
   "metadata": {},
   "outputs": [],
   "source": [
    "fr=open(\"new.txt\",\"r\")\n",
    "data=fr.read()  #전체 파일 읽음\n",
    "fr.close()"
   ]
  },
  {
   "cell_type": "code",
   "execution_count": 58,
   "id": "a8c8fc3d",
   "metadata": {},
   "outputs": [
    {
     "data": {
      "text/plain": [
       "'1 line\\n2 line\\n3 line\\n4 line\\n5 line\\n'"
      ]
     },
     "execution_count": 58,
     "metadata": {},
     "output_type": "execute_result"
    }
   ],
   "source": [
    "data"
   ]
  },
  {
   "cell_type": "code",
   "execution_count": 61,
   "id": "d0207119",
   "metadata": {},
   "outputs": [],
   "source": [
    "fr=open(\"new.txt\",\"r\")\n",
    "data=fr.readlines()  \n",
    "fr.close()"
   ]
  },
  {
   "cell_type": "code",
   "execution_count": 62,
   "id": "6857c7e9",
   "metadata": {},
   "outputs": [
    {
     "data": {
      "text/plain": [
       "['1 line\\n', '2 line\\n', '3 line\\n', '4 line\\n', '5 line\\n']"
      ]
     },
     "execution_count": 62,
     "metadata": {},
     "output_type": "execute_result"
    }
   ],
   "source": [
    "data"
   ]
  },
  {
   "cell_type": "code",
   "execution_count": 63,
   "id": "8bed418a",
   "metadata": {
    "scrolled": true
   },
   "outputs": [
    {
     "name": "stdout",
     "output_type": "stream",
     "text": [
      "1 line\n",
      "2 line\n",
      "3 line\n",
      "4 line\n",
      "5 line\n"
     ]
    }
   ],
   "source": [
    "fr=open(\"new.txt\",\"r\")\n",
    "for line in fr:             #readline이랑 같음\n",
    "    print(line,end=\"\")\n",
    "    \n",
    "fr.close()"
   ]
  },
  {
   "cell_type": "markdown",
   "id": "47a8b22e",
   "metadata": {},
   "source": [
    "## 실습1"
   ]
  },
  {
   "cell_type": "code",
   "execution_count": 83,
   "id": "37e0d46c",
   "metadata": {},
   "outputs": [
    {
     "data": {
      "text/plain": [
       "True"
      ]
     },
     "execution_count": 83,
     "metadata": {},
     "output_type": "execute_result"
    }
   ],
   "source": [
    "import os\n",
    "#os.path.exists(\"test.txt\") #파일이 존재하는지 알려줌\n",
    "os.path.isfile(\"test.txt\")  #파일이니?"
   ]
  },
  {
   "cell_type": "code",
   "execution_count": null,
   "id": "e55424af",
   "metadata": {},
   "outputs": [],
   "source": [
    "import os\n",
    "filename = input(\"Enter a file name: \")\n",
    "if os.path.exists(filename) == True:\n",
    "    fr=open(filename,\"r\")\n",
    "    fr.close()\n",
    "else:\n",
    "    print(\"파일이 존재하지 않는다\")"
   ]
  },
  {
   "cell_type": "code",
   "execution_count": null,
   "id": "e020c426",
   "metadata": {},
   "outputs": [],
   "source": []
  },
  {
   "cell_type": "markdown",
   "id": "df4290e7",
   "metadata": {},
   "source": [
    "## 실습2"
   ]
  },
  {
   "cell_type": "code",
   "execution_count": 3,
   "id": "a15a79d7",
   "metadata": {},
   "outputs": [],
   "source": [
    "fr = open(\"score.txt\",\"r\")"
   ]
  },
  {
   "cell_type": "code",
   "execution_count": 4,
   "id": "444204d7",
   "metadata": {},
   "outputs": [
    {
     "data": {
      "text/plain": [
       "'202301\\t89 78 \\n'"
      ]
     },
     "execution_count": 4,
     "metadata": {},
     "output_type": "execute_result"
    }
   ],
   "source": [
    "line = fr.readline()\n",
    "line"
   ]
  },
  {
   "cell_type": "code",
   "execution_count": 5,
   "id": "e501837b",
   "metadata": {},
   "outputs": [
    {
     "data": {
      "text/plain": [
       "['one', 'two', 'three']"
      ]
     },
     "execution_count": 5,
     "metadata": {},
     "output_type": "execute_result"
    }
   ],
   "source": [
    "data = \"one:two:three\"\n",
    "data.split(\":\")"
   ]
  },
  {
   "cell_type": "code",
   "execution_count": 6,
   "id": "e4d557ae",
   "metadata": {},
   "outputs": [
    {
     "data": {
      "text/plain": [
       "['202301', '89', '78']"
      ]
     },
     "execution_count": 6,
     "metadata": {},
     "output_type": "execute_result"
    }
   ],
   "source": [
    "line.split()  #분리"
   ]
  },
  {
   "cell_type": "code",
   "execution_count": 7,
   "id": "88b8d0e4",
   "metadata": {},
   "outputs": [
    {
     "data": {
      "text/plain": [
       "[202301, 89, 78]"
      ]
     },
     "execution_count": 7,
     "metadata": {},
     "output_type": "execute_result"
    }
   ],
   "source": [
    "new_list = []\n",
    "for e in line.split():\n",
    "    new_list.append(int(e))\n",
    "    \n",
    "new_list"
   ]
  },
  {
   "cell_type": "code",
   "execution_count": 76,
   "id": "ea616e15",
   "metadata": {},
   "outputs": [
    {
     "name": "stdout",
     "output_type": "stream",
     "text": [
      "202301 89 78\n"
     ]
    }
   ],
   "source": [
    "sid, mid, fin = new_list\n",
    "print(sid, mid, fin)"
   ]
  },
  {
   "cell_type": "code",
   "execution_count": 78,
   "id": "1ee8272e",
   "metadata": {},
   "outputs": [
    {
     "name": "stdout",
     "output_type": "stream",
     "text": [
      "202301 89 78\n"
     ]
    }
   ],
   "source": [
    "s,m,f = [ int(e) for e in line.split() ]\n",
    "print(s,m,f)"
   ]
  },
  {
   "cell_type": "code",
   "execution_count": null,
   "id": "b90c9898",
   "metadata": {},
   "outputs": [],
   "source": []
  },
  {
   "cell_type": "code",
   "execution_count": 2,
   "id": "217789ee",
   "metadata": {},
   "outputs": [],
   "source": [
    "import arth"
   ]
  },
  {
   "cell_type": "code",
   "execution_count": 3,
   "id": "a3bba018",
   "metadata": {},
   "outputs": [
    {
     "data": {
      "text/plain": [
       "50"
      ]
     },
     "execution_count": 3,
     "metadata": {},
     "output_type": "execute_result"
    }
   ],
   "source": [
    "arth.add(20,30)"
   ]
  },
  {
   "cell_type": "markdown",
   "id": "b19f750a",
   "metadata": {},
   "source": [
    "## 이중리스트"
   ]
  },
  {
   "cell_type": "code",
   "execution_count": 9,
   "id": "a5a38d73",
   "metadata": {},
   "outputs": [],
   "source": [
    "s = [[201801, 84, 73],[201802,92,49],[201803,57,62],[201804,58,68]]"
   ]
  },
  {
   "cell_type": "code",
   "execution_count": 10,
   "id": "35cc8ad3",
   "metadata": {},
   "outputs": [
    {
     "data": {
      "text/plain": [
       "49"
      ]
     },
     "execution_count": 10,
     "metadata": {},
     "output_type": "execute_result"
    }
   ],
   "source": [
    "s[1][2]"
   ]
  },
  {
   "cell_type": "code",
   "execution_count": 11,
   "id": "ad6e4925",
   "metadata": {},
   "outputs": [
    {
     "data": {
      "text/plain": [
       "[[201802, 92, 49], [201801, 84, 73], [201804, 58, 68], [201803, 57, 62]]"
      ]
     },
     "execution_count": 11,
     "metadata": {},
     "output_type": "execute_result"
    }
   ],
   "source": [
    "s.sort(reverse=True, key=lambda a : a[1]) #중간고사 기준\n",
    "s"
   ]
  },
  {
   "cell_type": "code",
   "execution_count": 13,
   "id": "63ea04bf",
   "metadata": {},
   "outputs": [
    {
     "data": {
      "text/plain": [
       "57"
      ]
     },
     "execution_count": 13,
     "metadata": {},
     "output_type": "execute_result"
    }
   ],
   "source": [
    "def test(a):\n",
    "    return a[1]\n",
    "\n",
    "test([201803,57,62])"
   ]
  },
  {
   "cell_type": "code",
   "execution_count": null,
   "id": "bf24e79f",
   "metadata": {},
   "outputs": [],
   "source": []
  }
 ],
 "metadata": {
  "kernelspec": {
   "display_name": "Python 3 (ipykernel)",
   "language": "python",
   "name": "python3"
  },
  "language_info": {
   "codemirror_mode": {
    "name": "ipython",
    "version": 3
   },
   "file_extension": ".py",
   "mimetype": "text/x-python",
   "name": "python",
   "nbconvert_exporter": "python",
   "pygments_lexer": "ipython3",
   "version": "3.10.9"
  }
 },
 "nbformat": 4,
 "nbformat_minor": 5
}
