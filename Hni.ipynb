{
 "cells": [
  {
   "cell_type": "code",
   "execution_count": 3,
   "id": "75e5696e",
   "metadata": {},
   "outputs": [
    {
     "name": "stdout",
     "output_type": "stream",
     "text": [
      "2\n",
      "2\n",
      "A -> B\n",
      "A -> C\n",
      "B -> C\n",
      "3\n",
      "A -> C\n",
      "A -> B\n",
      "C -> B\n",
      "A -> C\n",
      "B -> A\n",
      "B -> C\n",
      "A -> C\n"
     ]
    }
   ],
   "source": [
    "def Hanoi(n,start,mid,end):\n",
    "    if n == 0:\n",
    "        return\n",
    "    Hanoi(n-1,start,end,mid)\n",
    "    print(start,'->',end)\n",
    "    Hanoi(n-1,mid,start,end)\n",
    "    \n",
    "t= int(input())\n",
    "for _ in range(t):\n",
    "    n = int(input())\n",
    "    Hanoi(n,'A','B','C')"
   ]
  },
  {
   "cell_type": "code",
   "execution_count": null,
   "id": "b82a6ada",
   "metadata": {},
   "outputs": [],
   "source": []
  }
 ],
 "metadata": {
  "kernelspec": {
   "display_name": "Python 3 (ipykernel)",
   "language": "python",
   "name": "python3"
  },
  "language_info": {
   "codemirror_mode": {
    "name": "ipython",
    "version": 3
   },
   "file_extension": ".py",
   "mimetype": "text/x-python",
   "name": "python",
   "nbconvert_exporter": "python",
   "pygments_lexer": "ipython3",
   "version": "3.10.9"
  }
 },
 "nbformat": 4,
 "nbformat_minor": 5
}
