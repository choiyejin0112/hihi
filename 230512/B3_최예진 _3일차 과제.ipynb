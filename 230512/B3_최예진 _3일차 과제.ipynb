{
 "cells": [
  {
   "cell_type": "code",
   "execution_count": 1,
   "id": "93a88b37",
   "metadata": {},
   "outputs": [],
   "source": [
    "import pandas as pd\n",
    "import numpy as np\n",
    "\n",
    "from scipy import stats\n",
    "from statsmodels.stats.proportion import proportions_ztest\n",
    "\n",
    "import matplotlib.pyplot as plt\n",
    "\n",
    "import warnings\n",
    "warnings.filterwarnings('ignore')"
   ]
  },
  {
   "cell_type": "markdown",
   "id": "c5d1b32e",
   "metadata": {},
   "source": [
    "### [t 분포]\n",
    "###### ?) 확률변수 t는 자유도가 100인 t-분포를 따른다. t값이 2.0일 때, P(T<=t)을 계산하시오."
   ]
  },
  {
   "cell_type": "code",
   "execution_count": 2,
   "id": "e17a60d8",
   "metadata": {},
   "outputs": [
    {
     "name": "stdout",
     "output_type": "stream",
     "text": [
      "P(T<t)):0.976\n"
     ]
    }
   ],
   "source": [
    "t = 2.0\n",
    "df = 100\n",
    "\n",
    "prob = stats.t.cdf(t,df)\n",
    "print(\"P(T<t)):{:.3f}\".format(prob))"
   ]
  },
  {
   "cell_type": "markdown",
   "id": "a5192ca1",
   "metadata": {},
   "source": [
    "### [x^2 분포 실습]\n",
    "###### ?) 확률변수 x^2는 자유도가 8인 x^2 -분포를 따른다. x^2값이 3.0일 때, P(X < x^2)을 계산하시오."
   ]
  },
  {
   "cell_type": "code",
   "execution_count": 3,
   "id": "87aa2fb7",
   "metadata": {},
   "outputs": [
    {
     "name": "stdout",
     "output_type": "stream",
     "text": [
      "P(X<=3.0)):0.0656\n"
     ]
    }
   ],
   "source": [
    "chisq = 3.0\n",
    "df = 8\n",
    "\n",
    "prob = stats.chi2.cdf(chisq,df)\n",
    "print(\"P(X<={0})):{1:.4f}\".format(chisq,prob))"
   ]
  },
  {
   "cell_type": "markdown",
   "id": "86cf459e",
   "metadata": {},
   "source": [
    "### [F 분포]\n",
    "###### ?) 확률변수 F는 각각 자유도가 10, 100인 F-분포를 따른다. F값이 1.5일 때, P(X<=F)을 계산하시오."
   ]
  },
  {
   "cell_type": "code",
   "execution_count": 4,
   "id": "1339f0c0",
   "metadata": {},
   "outputs": [
    {
     "name": "stdout",
     "output_type": "stream",
     "text": [
      "P(X<=F): 0.850\n"
     ]
    }
   ],
   "source": [
    "f = 1.5\n",
    "dfnum = 10\n",
    "dfden = 100\n",
    "\n",
    "prob = stats.f.cdf(x=f, dfn=dfnum, dfd=dfden)\n",
    "print(\"P(X<=F): {:.3f}\".format(prob))"
   ]
  },
  {
   "cell_type": "markdown",
   "id": "d0a8ca49",
   "metadata": {},
   "source": [
    "### [이항분포]\n",
    "###### ?) 도장공정에서 광택도 불량이 30%나 된다고 함 / 5대의 차량을 임의로 선택했을 때 불량대수가 각각 0,1,2,3,4,5대가 나올 확률은 얼마인가요?"
   ]
  },
  {
   "cell_type": "code",
   "execution_count": 5,
   "id": "074a3a79",
   "metadata": {},
   "outputs": [
    {
     "name": "stdout",
     "output_type": "stream",
     "text": [
      "P(X=0)=0.168\n",
      "P(X=1)=0.360\n",
      "P(X=2)=0.309\n",
      "P(X=3)=0.132\n",
      "P(X=4)=0.028\n",
      "P(X=5)=0.002\n"
     ]
    }
   ],
   "source": [
    "n = 5\n",
    "for i in range(n+1):\n",
    "    prob = stats.binom.pmf(k=i, n=n, p=0.3)\n",
    "    print(\"P(X={0})={1:.3f}\".format(i,prob))"
   ]
  },
  {
   "cell_type": "markdown",
   "id": "a4eff8e7",
   "metadata": {},
   "source": [
    "### [정규성 검정]\n",
    "###### ?) 변수, Mat_A와 Mat_B에 대해 각각 정규성을 검정합니다.\n",
    "###### ----------------------------------------------------------------------------------------\n",
    "##### 귀무가설(H0) : 데이터셋이 정규분포를 따른다.\n",
    "##### 대립가설(H1) : 데이터셋이 정규분포를 따르지 않는다."
   ]
  },
  {
   "cell_type": "code",
   "execution_count": 6,
   "id": "cc01037a",
   "metadata": {},
   "outputs": [
    {
     "data": {
      "text/html": [
       "<div>\n",
       "<style scoped>\n",
       "    .dataframe tbody tr th:only-of-type {\n",
       "        vertical-align: middle;\n",
       "    }\n",
       "\n",
       "    .dataframe tbody tr th {\n",
       "        vertical-align: top;\n",
       "    }\n",
       "\n",
       "    .dataframe thead th {\n",
       "        text-align: right;\n",
       "    }\n",
       "</style>\n",
       "<table border=\"1\" class=\"dataframe\">\n",
       "  <thead>\n",
       "    <tr style=\"text-align: right;\">\n",
       "      <th></th>\n",
       "      <th>Mat_A</th>\n",
       "      <th>Mat_B</th>\n",
       "      <th>Total</th>\n",
       "      <th>Sub</th>\n",
       "    </tr>\n",
       "  </thead>\n",
       "  <tbody>\n",
       "    <tr>\n",
       "      <th>0</th>\n",
       "      <td>73.4</td>\n",
       "      <td>68.7</td>\n",
       "      <td>73.4</td>\n",
       "      <td>1</td>\n",
       "    </tr>\n",
       "    <tr>\n",
       "      <th>1</th>\n",
       "      <td>77.0</td>\n",
       "      <td>71.4</td>\n",
       "      <td>77.0</td>\n",
       "      <td>1</td>\n",
       "    </tr>\n",
       "    <tr>\n",
       "      <th>2</th>\n",
       "      <td>73.7</td>\n",
       "      <td>69.8</td>\n",
       "      <td>73.7</td>\n",
       "      <td>1</td>\n",
       "    </tr>\n",
       "    <tr>\n",
       "      <th>3</th>\n",
       "      <td>73.3</td>\n",
       "      <td>75.3</td>\n",
       "      <td>73.3</td>\n",
       "      <td>1</td>\n",
       "    </tr>\n",
       "    <tr>\n",
       "      <th>4</th>\n",
       "      <td>73.1</td>\n",
       "      <td>71.3</td>\n",
       "      <td>73.1</td>\n",
       "      <td>1</td>\n",
       "    </tr>\n",
       "  </tbody>\n",
       "</table>\n",
       "</div>"
      ],
      "text/plain": [
       "   Mat_A  Mat_B  Total  Sub\n",
       "0   73.4   68.7   73.4    1\n",
       "1   77.0   71.4   77.0    1\n",
       "2   73.7   69.8   73.7    1\n",
       "3   73.3   75.3   73.3    1\n",
       "4   73.1   71.3   73.1    1"
      ]
     },
     "execution_count": 6,
     "metadata": {},
     "output_type": "execute_result"
    }
   ],
   "source": [
    "#실습파일 2sample_t_test.csv를 불러온다.\n",
    "ds_camshaft = pd.read_csv(\"/home/piai/22기 최예진/230510/1 Big Data 분석 기초/2sample_t_test.csv\")\n",
    "ds_camshaft.head()"
   ]
  },
  {
   "cell_type": "code",
   "execution_count": 7,
   "id": "83005cda",
   "metadata": {},
   "outputs": [
    {
     "data": {
      "text/plain": [
       "ShapiroResult(statistic=0.906264066696167, pvalue=0.2563020884990692)"
      ]
     },
     "execution_count": 7,
     "metadata": {},
     "output_type": "execute_result"
    }
   ],
   "source": [
    "df = ds_camshaft.dropna()\n",
    "data1 = df['Mat_A']\n",
    "stats.shapiro(data1)"
   ]
  },
  {
   "cell_type": "markdown",
   "id": "8b55d646",
   "metadata": {},
   "source": [
    "###### : 변수 Mat_A의 정규성 검정결과  p-value가 0.05보다 큼 ->정규 / 따라서 이 Mat_A의 데이터셋이 정규분포를 따른다고 볼 수 있다."
   ]
  },
  {
   "cell_type": "code",
   "execution_count": 8,
   "id": "c021b184",
   "metadata": {},
   "outputs": [
    {
     "data": {
      "text/plain": [
       "ShapiroResult(statistic=0.9729753732681274, pvalue=0.9169775247573853)"
      ]
     },
     "execution_count": 8,
     "metadata": {},
     "output_type": "execute_result"
    }
   ],
   "source": [
    "df = ds_camshaft.dropna()\n",
    "data2 = df['Mat_B']\n",
    "stats.shapiro(data2)"
   ]
  },
  {
   "cell_type": "markdown",
   "id": "b2da6a4d",
   "metadata": {},
   "source": [
    "###### : 변수 Mat_B의 정규성 검정결과  p-value가 0.05보다 큼 ->정규 / 따라서 이 Mat_B의 데이터셋이 정규분포를 따른다고 볼 수 있다."
   ]
  },
  {
   "cell_type": "markdown",
   "id": "44e5972d",
   "metadata": {},
   "source": [
    "### [모평균 구간추정]\n",
    "###### ?) 새로운 품종의 감자 20Box를 랜덤푸풀하여 무게를 측정할 결과가 다음과 같음 / 이 자료로부터 신품종 배추의 평균 무게에 대한 95% 신뢰구간을 구하시오."
   ]
  },
  {
   "cell_type": "code",
   "execution_count": 9,
   "id": "598a6482",
   "metadata": {},
   "outputs": [
    {
     "data": {
      "text/html": [
       "<div>\n",
       "<style scoped>\n",
       "    .dataframe tbody tr th:only-of-type {\n",
       "        vertical-align: middle;\n",
       "    }\n",
       "\n",
       "    .dataframe tbody tr th {\n",
       "        vertical-align: top;\n",
       "    }\n",
       "\n",
       "    .dataframe thead th {\n",
       "        text-align: right;\n",
       "    }\n",
       "</style>\n",
       "<table border=\"1\" class=\"dataframe\">\n",
       "  <thead>\n",
       "    <tr style=\"text-align: right;\">\n",
       "      <th></th>\n",
       "      <th>sample</th>\n",
       "    </tr>\n",
       "  </thead>\n",
       "  <tbody>\n",
       "    <tr>\n",
       "      <th>0</th>\n",
       "      <td>18</td>\n",
       "    </tr>\n",
       "    <tr>\n",
       "      <th>1</th>\n",
       "      <td>18</td>\n",
       "    </tr>\n",
       "    <tr>\n",
       "      <th>2</th>\n",
       "      <td>20</td>\n",
       "    </tr>\n",
       "    <tr>\n",
       "      <th>3</th>\n",
       "      <td>21</td>\n",
       "    </tr>\n",
       "    <tr>\n",
       "      <th>4</th>\n",
       "      <td>20</td>\n",
       "    </tr>\n",
       "  </tbody>\n",
       "</table>\n",
       "</div>"
      ],
      "text/plain": [
       "   sample\n",
       "0      18\n",
       "1      18\n",
       "2      20\n",
       "3      21\n",
       "4      20"
      ]
     },
     "execution_count": 9,
     "metadata": {},
     "output_type": "execute_result"
    }
   ],
   "source": [
    "df = pd.DataFrame({\"sample\":[18,18,20,21,20,23,19,18,17,21,22,20,20,21,20,19,19,18,17,19]})\n",
    "df.head()"
   ]
  },
  {
   "cell_type": "code",
   "execution_count": 10,
   "id": "5c826b32",
   "metadata": {},
   "outputs": [
    {
     "name": "stdout",
     "output_type": "stream",
     "text": [
      "신뢰구간 :([17.83],[21.17])\n"
     ]
    }
   ],
   "source": [
    "lower,upper = stats.norm.interval(0.95, loc=np.mean(df),scale=3.8/np.sqrt(20))\n",
    "print(\"신뢰구간 :({0},{1})\".format(lower.round(2),upper.round(2)))"
   ]
  },
  {
   "cell_type": "markdown",
   "id": "bfc3a461",
   "metadata": {},
   "source": [
    "### [모평균 신뢰구간 추정]\n",
    "###### ?) 이 모평균값의 95% 신뢰구간을 추정하시오."
   ]
  },
  {
   "cell_type": "code",
   "execution_count": 11,
   "id": "29e745ed",
   "metadata": {},
   "outputs": [
    {
     "name": "stdout",
     "output_type": "stream",
     "text": [
      "신뢰구간 :([70.6],[72.4])\n"
     ]
    }
   ],
   "source": [
    "df=pd.DataFrame({'sample':[73,71,74,69,70,73,70,68,75,72,70,72,73,70,70,72,71,70,75,72]})\n",
    "\n",
    "lower,upper = stats.t.interval(0.95,len(df)-1, loc=np.mean(df), scale=stats.sem(df))\n",
    "print(\"신뢰구간 :({0},{1})\".format(lower.round(2),upper.round(2)))"
   ]
  },
  {
   "cell_type": "markdown",
   "id": "07befdf8",
   "metadata": {},
   "source": [
    "### [추론통계(1-Sample)]\n",
    "###### ?)  개선활동이 만족도를 변화시켰는가?\n",
    "###### ------------------------------------------------------------------\n",
    "###### 귀무가설(H0) : 평균이 78.0이다.\n",
    "###### 대립가설(H1) : 평균이 78.0이 아니다."
   ]
  },
  {
   "cell_type": "code",
   "execution_count": 43,
   "id": "1931a961",
   "metadata": {},
   "outputs": [
    {
     "data": {
      "image/png": "[encoded data removed]",
      "text/plain": [
       "<Figure size 640x480 with 1 Axes>"
      ]
     },
     "metadata": {},
     "output_type": "display_data"
    }
   ],
   "source": [
    "df = pd.DataFrame({'sample':[85.0,79.0,79.1,79.9,81.6,78.6,85.4,83.4,78.1,79.2]})\n",
    "\n",
    "df.boxplot(['sample'])\n",
    "plt.show()"
   ]
  },
  {
   "cell_type": "markdown",
   "id": "6b2dbaa8",
   "metadata": {},
   "source": [
    "###### - 유의수준 : 0.05"
   ]
  },
  {
   "cell_type": "code",
   "execution_count": 40,
   "id": "cbae9f89",
   "metadata": {},
   "outputs": [
    {
     "name": "stdout",
     "output_type": "stream",
     "text": [
      "statistic=0.8473217487335205, p-value=0.0539751797914505\n"
     ]
    }
   ],
   "source": [
    "statistic, p = stats.shapiro(df['sample'])\n",
    "print(\"statistic={}, p-value={}\".format(statistic,p))"
   ]
  },
  {
   "cell_type": "code",
   "execution_count": 41,
   "id": "dccbf4a4",
   "metadata": {},
   "outputs": [
    {
     "name": "stdout",
     "output_type": "stream",
     "text": [
      "1-Sample t-test\n",
      "t 통계량 : [3.379]\n",
      "p-value : [0.008]\n"
     ]
    }
   ],
   "source": [
    "t_result=stats.ttest_1samp(df, 78.0)\n",
    "\n",
    "t,p=t_result.statistic.round(3), \\\n",
    "    t_result.pvalue.round(3)\n",
    "\n",
    "print(\"1-Sample t-test\")\n",
    "print(\"t 통계량 : {}\".format(t))\n",
    "print(\"p-value : {}\".format(p))"
   ]
  },
  {
   "cell_type": "markdown",
   "id": "91f073e1",
   "metadata": {},
   "source": [
    "###### < 결과 1 : p-value 값이 0.008로 유의수준 0.05보다 작으므로  귀무가설을 기각할 수 있다. 따라서 평균이 78.0이 아니다. >"
   ]
  },
  {
   "cell_type": "code",
   "execution_count": 42,
   "id": "6a0bb217",
   "metadata": {},
   "outputs": [
    {
     "data": {
      "text/plain": [
       "sample    80.93\n",
       "dtype: float64"
      ]
     },
     "execution_count": 42,
     "metadata": {},
     "output_type": "execute_result"
    }
   ],
   "source": [
    "#개선활동 후 평균\n",
    "np.mean(df)"
   ]
  },
  {
   "cell_type": "markdown",
   "id": "4280ad13",
   "metadata": {},
   "source": [
    "##### < 결과2 : 개선활동 후 평균을 구해보면 78.0보다 높아진 것으로 보아 만족도를 좋게 변화시킨것으로 볼 수 있다. >"
   ]
  },
  {
   "cell_type": "markdown",
   "id": "e4dbb37f",
   "metadata": {},
   "source": [
    "### [추론통계(2-Sample)]\n",
    "###### ?) 공급자 간에 모평균에 차이가 있다고 할 수 있는가?\n",
    "###### ----------------------------------------------------------------------------\n",
    "###### 귀무가설(H0) : 공급자 간에 모평균에 차이가 없다.\n",
    "###### 대립가설(H1) : 공급자 간에 모평균에 차이가 있다.\n",
    "###### 유의수준 = 0.05"
   ]
  },
  {
   "cell_type": "code",
   "execution_count": 15,
   "id": "7e5fd71a",
   "metadata": {},
   "outputs": [
    {
     "data": {
      "image/png": "[encoded data removed]",
      "text/plain": [
       "<Figure size 640x480 with 1 Axes>"
      ]
     },
     "metadata": {},
     "output_type": "display_data"
    }
   ],
   "source": [
    "df = pd.DataFrame({'A':[1.883,1.715,1.799,1.768,1.711,1.832,1.427,1.344],\n",
    "                  'B':[1.435,1.572,1.486,1.511,1.457,1.548,1.404,1.883]})\n",
    "df.boxplot(['A','B'])\n",
    "plt.show()"
   ]
  },
  {
   "cell_type": "code",
   "execution_count": 16,
   "id": "c62bb154",
   "metadata": {},
   "outputs": [
    {
     "name": "stdout",
     "output_type": "stream",
     "text": [
      "statistic=0.8425754904747009,p-value=0.08004532009363174\n"
     ]
    }
   ],
   "source": [
    "statistic,p=stats.shapiro(df['A'])\n",
    "print(\"statistic={},p-value={}\".format(statistic,p))"
   ]
  },
  {
   "cell_type": "code",
   "execution_count": 17,
   "id": "f8bf18c3",
   "metadata": {},
   "outputs": [
    {
     "name": "stdout",
     "output_type": "stream",
     "text": [
      "statistic=0.7734811902046204,p-value=0.014793740585446358\n"
     ]
    }
   ],
   "source": [
    "statistic,p=stats.shapiro(df['B'])\n",
    "print(\"statistic={},p-value={}\".format(statistic,p))"
   ]
  },
  {
   "cell_type": "code",
   "execution_count": 18,
   "id": "91bae15a",
   "metadata": {},
   "outputs": [
    {
     "data": {
      "text/plain": [
       "BartlettResult(statistic=0.42411436523132123, pvalue=0.5148911629500761)"
      ]
     },
     "execution_count": 18,
     "metadata": {},
     "output_type": "execute_result"
    }
   ],
   "source": [
    "stats.bartlett(df['A'],df['B'])"
   ]
  },
  {
   "cell_type": "code",
   "execution_count": 19,
   "id": "349151c7",
   "metadata": {},
   "outputs": [
    {
     "name": "stdout",
     "output_type": "stream",
     "text": [
      "2-Sample t-test\n",
      "t: 1.7\n",
      "p: 0.111\n"
     ]
    }
   ],
   "source": [
    "t_result = stats.ttest_ind(df['A'],df['B'])\n",
    "\n",
    "t,p=t_result.statistic.round(3),t_result.pvalue.round(3)\n",
    "\n",
    "print(\"2-Sample t-test\")\n",
    "print(\"t: {}\".format(t))\n",
    "print(\"p: {}\".format(p))"
   ]
  },
  {
   "cell_type": "markdown",
   "id": "de3405c1",
   "metadata": {},
   "source": [
    "###### <결과: p-value가 0.111이므로, 유의수준 0.05에서 귀무가설을 채택할 수 있다. 따라서, 공급자 간의 모평균의 차이가 없다.>"
   ]
  },
  {
   "cell_type": "markdown",
   "id": "c6b84847",
   "metadata": {},
   "source": [
    "### [추론통계(paired)]\n",
    "###### ?) 회사원들의 성적은 학원가기 전후에 대해 차이가 있는지 검정하라.\n",
    "###### ----------------------------------------------------------------------------------------\n",
    "###### 귀무가설(H0) : 회사원들의 성적은 학원가기 전후에 대해 차이가 없다.\n",
    "###### 대립가설(H1) : 회사원들의 성적은 학원가기 전후에 대해 차이가 있다."
   ]
  },
  {
   "cell_type": "code",
   "execution_count": 20,
   "id": "0493c71e",
   "metadata": {},
   "outputs": [],
   "source": [
    "df1=pd.DataFrame({'before':[720,589,780,648,720,589,780,648,780,648]})\n",
    "df2=pd.DataFrame({'after':[710,580,787,712,750,600,782,670,790,680]})\n",
    "\n",
    "t_result=stats.ttest_rel(df1,df2)\n",
    "\n",
    "t,p = t_result.statistic.round(3),t_result.pvalue.round(3)"
   ]
  },
  {
   "cell_type": "code",
   "execution_count": 21,
   "id": "56154dbf",
   "metadata": {
    "scrolled": true
   },
   "outputs": [
    {
     "name": "stdout",
     "output_type": "stream",
     "text": [
      "Paired t-test\n",
      "t:[-2.266]\n",
      "p:[0.05]\n"
     ]
    }
   ],
   "source": [
    "print(\"Paired t-test\")\n",
    "print(\"t:{}\".format(t))\n",
    "print(\"p:{}\".format(p))"
   ]
  },
  {
   "cell_type": "markdown",
   "id": "bd35f512",
   "metadata": {},
   "source": [
    "###### <결과 : p-value가 0.05이므로, 유의수준 0.05에서 귀무가설을 기각할 수 있다. 즉, 회사원들의 성적은 학원가기 전후에 대해 차이가 있다고 볼 수 있다. >"
   ]
  },
  {
   "cell_type": "markdown",
   "id": "84fda429",
   "metadata": {},
   "source": [
    "### [1 Proportion test]\n",
    "###### ?) 동전 100번을 던져보노 결과, 앞면이 40번 나왔으며 뒷면이 60번 나왔다. 이 동전은 정상인가를 검정하라. (정상적인 동전을 던질 때 앞면이 나올 확률은 50%)\n",
    "###### ---------------------------------------------------------------------------------------------------------------------------------------------------------------------------------------------------\n",
    "###### 귀무가설(H0) : 이 동전은 정상적인 동전이다. 즉, 앞면이 나올 확률은 50%이다.\n",
    "###### 대립가설(H1) : 이 동전은 정상적인 동전이 아니다. 앞면이 나올 확률은 50%가 아니다."
   ]
  },
  {
   "cell_type": "code",
   "execution_count": 22,
   "id": "a21af216",
   "metadata": {},
   "outputs": [],
   "source": [
    "count = 40\n",
    "n_obs = 100\n",
    "value = 0.5\n",
    "\n",
    "stat,pval = proportions_ztest(count,n_obs,value)"
   ]
  },
  {
   "cell_type": "code",
   "execution_count": 23,
   "id": "33852844",
   "metadata": {},
   "outputs": [
    {
     "name": "stdout",
     "output_type": "stream",
     "text": [
      "1 Proportion test\n",
      "z:-2.041\n",
      "p:0.041\n"
     ]
    }
   ],
   "source": [
    "print(\"1 Proportion test\")\n",
    "print('z:{0:0.3f}'.format(stat))\n",
    "print('p:{0:0.3f}'.format(pval))"
   ]
  },
  {
   "cell_type": "markdown",
   "id": "96edb43d",
   "metadata": {},
   "source": [
    "###### <결과 : 검정통계량 z값은 -2.041이며, 유의확률(p-value)은 0.041이므로, 유의수준 0.05에서 귀무가설을 기각할 수 있다. 즉, 이 동전은 정상적인 동전이 아니며, 앞면이 나올 확률은 50%가 아니라는 결론을 내릴 수 있다. >"
   ]
  },
  {
   "cell_type": "markdown",
   "id": "ef9fb2ca",
   "metadata": {},
   "source": [
    "### [2 Proportion test]\n",
    "###### ?) 두 공정의 불량률이 같다고 할 수 있는가?\n",
    "###### -----------------------------------------------------------------------\n",
    "###### 귀무가설(H0) : 두 공장의 불량률은 같다.\n",
    "###### 대립가설(H1) : 두 공장의 불량률은 같지 않다.\n",
    "###### 유의수준 = 0.05"
   ]
  },
  {
   "cell_type": "code",
   "execution_count": 24,
   "id": "2295bb25",
   "metadata": {},
   "outputs": [],
   "source": [
    "count = np.array([14,5])\n",
    "nobs = np.array([1200,1200])\n",
    "\n",
    "stat,pval = proportions_ztest(count,nobs)"
   ]
  },
  {
   "cell_type": "code",
   "execution_count": 25,
   "id": "c58d42ca",
   "metadata": {},
   "outputs": [
    {
     "name": "stdout",
     "output_type": "stream",
     "text": [
      "2 Proportion test\n",
      "z:2.073\n",
      "p:0.038\n"
     ]
    }
   ],
   "source": [
    "print(\"2 Proportion test\")\n",
    "print('z:{0:0.3f}'.format(stat))\n",
    "print('p:{0:0.3f}'.format(pval))"
   ]
  },
  {
   "cell_type": "markdown",
   "id": "c5127edb",
   "metadata": {},
   "source": [
    "###### <결과 : 검정통계량 z값은 2.073이며, 유의확률(p-value)은 0.038이므로, 유의수준 0.05에서 귀무가설을 기각할 수 있다. 즉, 두 공장의 불량률은 같지 않다. >"
   ]
  },
  {
   "cell_type": "markdown",
   "id": "a3200417",
   "metadata": {},
   "source": [
    "### [카이제곱 검정]\n",
    "###### ?) 각 제품에 대해 이미지에 대해 차이가 있겠는가?\n",
    "###### -----------------------------------------------------------------------\n",
    "###### 귀무가설(H0) : 차이가 없다.\n",
    "###### 대립가설(H1) : 차이가 있다.\n",
    "###### 유의수준 = 0.05"
   ]
  },
  {
   "cell_type": "code",
   "execution_count": 26,
   "id": "01d68ee5",
   "metadata": {},
   "outputs": [],
   "source": [
    "df = pd.DataFrame({'A':[18,1,8,7,10,9,10],'B':[8,2,14,5,5,9,4],\n",
    "                   'C':[4,1,3,4,9,5,4],'D':[4,1,2,3,2,7,3],\n",
    "                  'E':[3,1,3,1,1,1,1],'F':[3,25,8,10,2,1,7]})\n",
    "\n",
    "chi,pval,dof,expected = stats.chi2_contingency(df)"
   ]
  },
  {
   "cell_type": "code",
   "execution_count": 36,
   "id": "d39ea9b7",
   "metadata": {},
   "outputs": [
    {
     "name": "stdout",
     "output_type": "stream",
     "text": [
      "chi-square test\n",
      "chisq:98.27\n",
      "p:0.000\n",
      "degree pf freedom:30\n",
      "expected value:\n",
      "[[11.   8.2  5.2  3.8  1.9  9.8]\n",
      " [ 8.5  6.4  4.1  3.   1.5  7.6]\n",
      " [10.5  7.8  5.   3.7  1.8  9.3]\n",
      " [ 8.3  6.2  3.9  2.9  1.4  7.3]\n",
      " [ 8.   6.   3.8  2.8  1.4  7.1]\n",
      " [ 8.8  6.6  4.2  3.1  1.5  7.8]\n",
      " [ 8.   6.   3.8  2.8  1.4  7.1]]\n"
     ]
    }
   ],
   "source": [
    "print(\"chi-square test\")\n",
    "print('chisq:{0:0.2f}'.format(chi))\n",
    "print('p:{0:0.3f}'.format(pval))\n",
    "print('degree pf freedom:{}'.format(dof))\n",
    "print('expected value:\\n{}'.format(expected.round(1)))"
   ]
  },
  {
   "cell_type": "markdown",
   "id": "aad4e490",
   "metadata": {},
   "source": [
    "###### < 결과 : p-value : 0.000 이므로 유의수준보다 작으므로 유의수준 0.05에서 귀무가설을 기각할 수 있다. 즉 각 제품에 대해 이미지에 대해 차이가 있다고 볼 수 있다.  >"
   ]
  },
  {
   "cell_type": "markdown",
   "id": "83228e3b",
   "metadata": {},
   "source": [
    "### [ANOVA]\n",
    "##### ?) 강종별로 2차 정련시간이 차이가 있는지 검정하라\n",
    "###### -----------------------------------------------------------------------\n",
    "###### 귀무가설(H0) :강종별로 2차 정련시간이 차이가 없다.\n",
    "###### 대립가설(H1) : 강종별로 2차 정련시간이 차이가 있다.\n",
    "###### 유의수준 = 0.05"
   ]
  },
  {
   "cell_type": "code",
   "execution_count": 28,
   "id": "9efeef1e",
   "metadata": {
    "scrolled": true
   },
   "outputs": [
    {
     "data": {
      "text/html": [
       "<div>\n",
       "<style scoped>\n",
       "    .dataframe tbody tr th:only-of-type {\n",
       "        vertical-align: middle;\n",
       "    }\n",
       "\n",
       "    .dataframe tbody tr th {\n",
       "        vertical-align: top;\n",
       "    }\n",
       "\n",
       "    .dataframe thead th {\n",
       "        text-align: right;\n",
       "    }\n",
       "</style>\n",
       "<table border=\"1\" class=\"dataframe\">\n",
       "  <thead>\n",
       "    <tr style=\"text-align: right;\">\n",
       "      <th></th>\n",
       "      <th>time</th>\n",
       "      <th>charge</th>\n",
       "      <th>gangjong</th>\n",
       "      <th>type</th>\n",
       "    </tr>\n",
       "  </thead>\n",
       "  <tbody>\n",
       "    <tr>\n",
       "      <th>0</th>\n",
       "      <td>32.2</td>\n",
       "      <td>A</td>\n",
       "      <td>a</td>\n",
       "      <td>a</td>\n",
       "    </tr>\n",
       "    <tr>\n",
       "      <th>1</th>\n",
       "      <td>30.4</td>\n",
       "      <td>B</td>\n",
       "      <td>a</td>\n",
       "      <td>a</td>\n",
       "    </tr>\n",
       "    <tr>\n",
       "      <th>2</th>\n",
       "      <td>33.6</td>\n",
       "      <td>C</td>\n",
       "      <td>a</td>\n",
       "      <td>a</td>\n",
       "    </tr>\n",
       "    <tr>\n",
       "      <th>3</th>\n",
       "      <td>36.4</td>\n",
       "      <td>D</td>\n",
       "      <td>a</td>\n",
       "      <td>a</td>\n",
       "    </tr>\n",
       "    <tr>\n",
       "      <th>4</th>\n",
       "      <td>33.9</td>\n",
       "      <td>E</td>\n",
       "      <td>a</td>\n",
       "      <td>a</td>\n",
       "    </tr>\n",
       "  </tbody>\n",
       "</table>\n",
       "</div>"
      ],
      "text/plain": [
       "   time charge gangjong type\n",
       "0  32.2      A        a    a\n",
       "1  30.4      B        a    a\n",
       "2  33.6      C        a    a\n",
       "3  36.4      D        a    a\n",
       "4  33.9      E        a    a"
      ]
     },
     "execution_count": 28,
     "metadata": {},
     "output_type": "execute_result"
    }
   ],
   "source": [
    "df = pd.read_csv(\"/home/piai/22기 최예진/230510/1 Big Data 분석 기초/ANOVA.csv\")\n",
    "df.head()"
   ]
  },
  {
   "cell_type": "code",
   "execution_count": 29,
   "id": "fe9bf9fd",
   "metadata": {},
   "outputs": [
    {
     "data": {
      "image/png": "[encoded data removed]",
      "text/plain": [
       "<Figure size 640x480 with 1 Axes>"
      ]
     },
     "metadata": {},
     "output_type": "display_data"
    }
   ],
   "source": [
    "#gangjong별로 2차정련 시간 차이\n",
    "df1=df[df['gangjong']=='a']['time']\n",
    "df2=df[df['gangjong']=='b']['time']\n",
    "df3=df[df['gangjong']=='c']['time']\n",
    "df4=df[df['gangjong']=='d']['time']\n",
    "\n",
    "plt.boxplot([df1,df2,df3,df4])\n",
    "plt.show()"
   ]
  },
  {
   "cell_type": "code",
   "execution_count": 30,
   "id": "1999232f",
   "metadata": {},
   "outputs": [
    {
     "name": "stdout",
     "output_type": "stream",
     "text": [
      "One-way\n",
      "F통계량 :4.172\n",
      "p-value :0.019\n"
     ]
    }
   ],
   "source": [
    "f_result=stats.f_oneway(df1,df2,df3,df4)\n",
    "\n",
    "f,p=f_result.statistic.round(3),f_result.pvalue.round(3)\n",
    "\n",
    "print(\"One-way\")\n",
    "print(\"F통계량 :{}\".format(f))\n",
    "print(\"p-value :{}\".format(p))"
   ]
  },
  {
   "cell_type": "markdown",
   "id": "ca15f71d",
   "metadata": {},
   "source": [
    "###### < 결과 : p-value가 0.019로  p-value가 유의수준보다 작기 때문에 귀무가설을 기각하고 대립가설을 채택한다. 따라서, 강종별로 2차정련 시간이 차이가 있다. >"
   ]
  },
  {
   "cell_type": "markdown",
   "id": "c7ee5c91",
   "metadata": {},
   "source": [
    "###### ?) type별로 2차정련 시간에 차이가 있는지 검정하라\n",
    "###### ----------------------------------------------------------------------------\n",
    "###### 귀무가설(H0) :type별로 2차 정련시간이 차이가 없다.\n",
    "###### 대립가설(H1) :type별로 2차 정련시간이 차이가 있다."
   ]
  },
  {
   "cell_type": "code",
   "execution_count": 31,
   "id": "b3f409ca",
   "metadata": {},
   "outputs": [
    {
     "data": {
      "image/png": "[encoded data removed]",
      "text/plain": [
       "<Figure size 640x480 with 1 Axes>"
      ]
     },
     "metadata": {},
     "output_type": "display_data"
    }
   ],
   "source": [
    "#type별로 2차정련 시간 차이\n",
    "df1=df[df['type']=='a']['time']\n",
    "df2=df[df['type']=='b']['time']\n",
    "\n",
    "plt.boxplot([df1,df2])\n",
    "plt.show() "
   ]
  },
  {
   "cell_type": "code",
   "execution_count": 32,
   "id": "1031b1a8",
   "metadata": {
    "scrolled": true
   },
   "outputs": [
    {
     "name": "stdout",
     "output_type": "stream",
     "text": [
      "One-way\n",
      "F통계량 :9.654\n",
      "p-value :0.005\n"
     ]
    }
   ],
   "source": [
    "f_result=stats.f_oneway(df1,df2)\n",
    "\n",
    "f,p=f_result.statistic.round(3),f_result.pvalue.round(3)\n",
    "\n",
    "print(\"One-way\")\n",
    "print(\"F통계량 :{}\".format(f))\n",
    "print(\"p-value :{}\".format(p))"
   ]
  },
  {
   "cell_type": "markdown",
   "id": "5cc84e45",
   "metadata": {},
   "source": [
    "###### < 결과 : p-value가 0.005로 유의수준보다 작기 때문에 귀무가설을 기각하고 대립가설을 채택합니다. 따라서, type 별로 2차 정련시간이 차이가 있다. >"
   ]
  },
  {
   "cell_type": "markdown",
   "id": "ecbfdadf",
   "metadata": {},
   "source": [
    "### [상관분석]\n",
    "###### ?) 초코칩의 강도와 재료 반죽온도간에 관계를 분석하기 위한 상관분석을 하세요\n",
    "###### ------------------------------------------------------------------------------------------------------------\n",
    "###### 귀무가설(H0) : 초코칩의 강도와 재료 반죽온도간의 상관관계가 없다.\n",
    "###### 대립가설(H1) : 초코칩의 강도와 재료 반죽온도간의 상관관계가 있다."
   ]
  },
  {
   "cell_type": "code",
   "execution_count": 33,
   "id": "449f6a04",
   "metadata": {},
   "outputs": [],
   "source": [
    "df1 = [37.6,38.6,37.2,36.4,38.6,39,37.2,36.1,35.9,37.1,36.9,37.5,36.3,38.1,39,36.9,36.8,37.6,33,33.5]\n",
    "df2 = [14,15,14,16,17,14,17,16,15,16,14,16,18,13,15,17,14,16,20,21]\n",
    "\n",
    "corr,pval=stats.pearsonr(df1,df2)"
   ]
  },
  {
   "cell_type": "code",
   "execution_count": 34,
   "id": "20330e81",
   "metadata": {},
   "outputs": [
    {
     "name": "stdout",
     "output_type": "stream",
     "text": [
      "Correlation Analysis\n",
      "corr:-0.723\n",
      "p-value:0.000\n"
     ]
    }
   ],
   "source": [
    "print(\"Correlation Analysis\")\n",
    "print('corr:{0:0.3f}'.format(corr))\n",
    "print('p-value:{0:0.3f}'.format(pval))"
   ]
  },
  {
   "cell_type": "markdown",
   "id": "eb68049f",
   "metadata": {},
   "source": [
    "###### < 결과 : 음의 상관관계가 있으면 한 변수가 증가할 때 한 변수는 감소한다. 따라서 반죽온도가 높으면 초코칩의 강도는 약해지고, 반죽온도가 낮아지면 초코칩의 강도는 강해지는 관계가 있는 것을 알 수 있다. >"
   ]
  },
  {
   "cell_type": "code",
   "execution_count": null,
   "id": "6962c0e4",
   "metadata": {},
   "outputs": [],
   "source": []
  }
 ],
 "metadata": {
  "kernelspec": {
   "display_name": "Python 3 (ipykernel)",
   "language": "python",
   "name": "python3"
  },
  "language_info": {
   "codemirror_mode": {
    "name": "ipython",
    "version": 3
   },
   "file_extension": ".py",
   "mimetype": "text/x-python",
   "name": "python",
   "nbconvert_exporter": "python",
   "pygments_lexer": "ipython3",
   "version": "3.10.9"
  }
 },
 "nbformat": 4,
 "nbformat_minor": 5
}
