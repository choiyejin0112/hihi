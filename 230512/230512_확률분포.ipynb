{
 "cells": [
  {
   "cell_type": "code",
   "execution_count": 23,
   "id": "d028ec0e",
   "metadata": {},
   "outputs": [],
   "source": [
    "import pandas as pd\n",
    "import numpy as np\n",
    "\n",
    "from scipy import stats\n",
    "from statsmodels.stats.proportion import proportions_ztest\n",
    "\n",
    "#import matplotlib\n",
    "#%matplotlib inline\n",
    "import matplotlib.pyplot as plt\n",
    "\n",
    "import warnings\n",
    "warnings.filterwarnings('ignore')"
   ]
  },
  {
   "cell_type": "markdown",
   "id": "553097f6",
   "metadata": {},
   "source": [
    "##### t 분포"
   ]
  },
  {
   "cell_type": "code",
   "execution_count": 2,
   "id": "a2bd54e2",
   "metadata": {},
   "outputs": [
    {
     "name": "stdout",
     "output_type": "stream",
     "text": [
      "P(T<t)):0.907\n"
     ]
    }
   ],
   "source": [
    "t = 1.53\n",
    "df = 5\n",
    "\n",
    "prob = stats.t.cdf(t,df)\n",
    "print(\"P(T<t)):{:.3f}\".format(prob))"
   ]
  },
  {
   "cell_type": "markdown",
   "id": "d293da0f",
   "metadata": {},
   "source": [
    "##### X^2분포"
   ]
  },
  {
   "cell_type": "code",
   "execution_count": 3,
   "id": "bcbff50f",
   "metadata": {},
   "outputs": [
    {
     "name": "stdout",
     "output_type": "stream",
     "text": [
      "P(X<=10)):0.0002\n"
     ]
    }
   ],
   "source": [
    "chisq = 10\n",
    "df = 30\n",
    "\n",
    "prob = stats.chi2.cdf(chisq,df)\n",
    "print(\"P(X<={0})):{1:.4f}\".format(chisq,prob))"
   ]
  },
  {
   "cell_type": "markdown",
   "id": "69a01dc1",
   "metadata": {},
   "source": [
    "##### F 분포"
   ]
  },
  {
   "cell_type": "code",
   "execution_count": 4,
   "id": "0f950774",
   "metadata": {},
   "outputs": [
    {
     "name": "stdout",
     "output_type": "stream",
     "text": [
      "P(X<=F): 0.904\n"
     ]
    }
   ],
   "source": [
    "f = 2.0\n",
    "dfnum = 15\n",
    "dfden = 15\n",
    "\n",
    "prob = stats.f.cdf(x=f, dfn=dfnum, dfd=dfden)\n",
    "print(\"P(X<=F): {:.3f}\".format(prob))"
   ]
  },
  {
   "cell_type": "markdown",
   "id": "4afd76df",
   "metadata": {},
   "source": [
    "##### 이항분포"
   ]
  },
  {
   "cell_type": "code",
   "execution_count": 5,
   "id": "cff59af3",
   "metadata": {},
   "outputs": [
    {
     "name": "stdout",
     "output_type": "stream",
     "text": [
      "P(X=0)=0.216\n",
      "P(X=1)=0.432\n",
      "P(X=2)=0.288\n",
      "P(X=3)=0.064\n"
     ]
    }
   ],
   "source": [
    "n = 3\n",
    "for i in range(n+1):\n",
    "    prob = stats.binom.pmf(k=i, n=n, p=0.4)\n",
    "    print(\"P(X={0})={1:.3f}\".format(i,prob))"
   ]
  },
  {
   "cell_type": "markdown",
   "id": "c6843b80",
   "metadata": {},
   "source": [
    "###### 정규성 검정"
   ]
  },
  {
   "cell_type": "code",
   "execution_count": 6,
   "id": "5b34fc3f",
   "metadata": {},
   "outputs": [
    {
     "data": {
      "text/html": [
       "<div>\n",
       "<style scoped>\n",
       "    .dataframe tbody tr th:only-of-type {\n",
       "        vertical-align: middle;\n",
       "    }\n",
       "\n",
       "    .dataframe tbody tr th {\n",
       "        vertical-align: top;\n",
       "    }\n",
       "\n",
       "    .dataframe thead th {\n",
       "        text-align: right;\n",
       "    }\n",
       "</style>\n",
       "<table border=\"1\" class=\"dataframe\">\n",
       "  <thead>\n",
       "    <tr style=\"text-align: right;\">\n",
       "      <th></th>\n",
       "      <th>Length</th>\n",
       "      <th>Supp1</th>\n",
       "      <th>Supp2</th>\n",
       "    </tr>\n",
       "  </thead>\n",
       "  <tbody>\n",
       "    <tr>\n",
       "      <th>0</th>\n",
       "      <td>601.4</td>\n",
       "      <td>598.0</td>\n",
       "      <td>601.6</td>\n",
       "    </tr>\n",
       "    <tr>\n",
       "      <th>1</th>\n",
       "      <td>601.6</td>\n",
       "      <td>599.8</td>\n",
       "      <td>600.4</td>\n",
       "    </tr>\n",
       "    <tr>\n",
       "      <th>2</th>\n",
       "      <td>598.0</td>\n",
       "      <td>600.0</td>\n",
       "      <td>598.4</td>\n",
       "    </tr>\n",
       "    <tr>\n",
       "      <th>3</th>\n",
       "      <td>601.4</td>\n",
       "      <td>599.8</td>\n",
       "      <td>600.0</td>\n",
       "    </tr>\n",
       "    <tr>\n",
       "      <th>4</th>\n",
       "      <td>599.4</td>\n",
       "      <td>600.0</td>\n",
       "      <td>596.8</td>\n",
       "    </tr>\n",
       "  </tbody>\n",
       "</table>\n",
       "</div>"
      ],
      "text/plain": [
       "   Length  Supp1  Supp2\n",
       "0   601.4  598.0  601.6\n",
       "1   601.6  599.8  600.4\n",
       "2   598.0  600.0  598.4\n",
       "3   601.4  599.8  600.0\n",
       "4   599.4  600.0  596.8"
      ]
     },
     "execution_count": 6,
     "metadata": {},
     "output_type": "execute_result"
    }
   ],
   "source": [
    "ds_camshaft = pd.read_csv(\"/home/piai/22기 최예진/230510/1 Big Data 분석 기초/camshaft.csv\")\n",
    "ds_camshaft.head()"
   ]
  },
  {
   "cell_type": "code",
   "execution_count": 7,
   "id": "5c544b96",
   "metadata": {},
   "outputs": [
    {
     "data": {
      "text/plain": [
       "ShapiroResult(statistic=0.9788166284561157, pvalue=0.1074606254696846)"
      ]
     },
     "execution_count": 7,
     "metadata": {},
     "output_type": "execute_result"
    }
   ],
   "source": [
    "data1 = ds_camshaft['Supp1']\n",
    "stats.shapiro(data1)\n",
    "#정규성 검정결과 p-value가 0.05보다 크니 귀무가설 채택 -> 정규로 판택(정규성O)"
   ]
  },
  {
   "cell_type": "markdown",
   "id": "0684413e",
   "metadata": {},
   "source": [
    "##### 모평균 구간추정"
   ]
  },
  {
   "cell_type": "code",
   "execution_count": 8,
   "id": "514f89ea",
   "metadata": {},
   "outputs": [
    {
     "data": {
      "text/html": [
       "<div>\n",
       "<style scoped>\n",
       "    .dataframe tbody tr th:only-of-type {\n",
       "        vertical-align: middle;\n",
       "    }\n",
       "\n",
       "    .dataframe tbody tr th {\n",
       "        vertical-align: top;\n",
       "    }\n",
       "\n",
       "    .dataframe thead th {\n",
       "        text-align: right;\n",
       "    }\n",
       "</style>\n",
       "<table border=\"1\" class=\"dataframe\">\n",
       "  <thead>\n",
       "    <tr style=\"text-align: right;\">\n",
       "      <th></th>\n",
       "      <th>sample</th>\n",
       "    </tr>\n",
       "  </thead>\n",
       "  <tbody>\n",
       "    <tr>\n",
       "      <th>0</th>\n",
       "      <td>3.6</td>\n",
       "    </tr>\n",
       "    <tr>\n",
       "      <th>1</th>\n",
       "      <td>2.9</td>\n",
       "    </tr>\n",
       "    <tr>\n",
       "      <th>2</th>\n",
       "      <td>2.8</td>\n",
       "    </tr>\n",
       "    <tr>\n",
       "      <th>3</th>\n",
       "      <td>2.6</td>\n",
       "    </tr>\n",
       "    <tr>\n",
       "      <th>4</th>\n",
       "      <td>3.4</td>\n",
       "    </tr>\n",
       "  </tbody>\n",
       "</table>\n",
       "</div>"
      ],
      "text/plain": [
       "   sample\n",
       "0     3.6\n",
       "1     2.9\n",
       "2     2.8\n",
       "3     2.6\n",
       "4     3.4"
      ]
     },
     "execution_count": 8,
     "metadata": {},
     "output_type": "execute_result"
    }
   ],
   "source": [
    "df = pd.DataFrame({\"sample\":[3.6,2.9,2.8,2.6,3.4,3.2,2.2,2.6,2.6,2.4,2.4,2.6,3.4,2.4,2.1,2.6,3.0,2.4,2.7,2.4,2.6,2.9,2.9,2.0,2.7,2.2,2.8,2.7,1.8,2.5,3.0,3.2,2.8,2.6,3.2,3.1,2.9,2.7,2.7,2.2]})\n",
    "df.head()"
   ]
  },
  {
   "cell_type": "code",
   "execution_count": 9,
   "id": "4152c411",
   "metadata": {},
   "outputs": [
    {
     "name": "stdout",
     "output_type": "stream",
     "text": [
      "신뢰구간 :([2.57],[2.82])\n"
     ]
    }
   ],
   "source": [
    "lower,upper = stats.norm.interval(0.95, loc=np.mean(df),scale=0.397/np.sqrt(40))\n",
    "print(\"신뢰구간 :({0},{1})\".format(lower.round(2),upper.round(2)))"
   ]
  },
  {
   "cell_type": "markdown",
   "id": "117ce1f5",
   "metadata": {},
   "source": [
    "#### 모평균 신뢰구간 추정"
   ]
  },
  {
   "cell_type": "code",
   "execution_count": 10,
   "id": "c2f1fb82",
   "metadata": {},
   "outputs": [],
   "source": [
    "df=pd.DataFrame({'sample':[54.1,53.3,56.1,55.7,54.0,54.1,54.5,57.1,55.2,53.8,54.1,54.1,56.1,55.0,55.9,56.0,54.9,54.3,53.9,55.0]})"
   ]
  },
  {
   "cell_type": "code",
   "execution_count": 11,
   "id": "4c9f2929",
   "metadata": {},
   "outputs": [
    {
     "name": "stdout",
     "output_type": "stream",
     "text": [
      "신뢰구간 :([54.39],[55.33])\n"
     ]
    }
   ],
   "source": [
    "lower,upper = stats.t.interval(0.95,len(df)-1, loc=np.mean(df), scale=stats.sem(df))\n",
    "print(\"신뢰구간 :({0},{1})\".format(lower.round(2),upper.round(2)))"
   ]
  },
  {
   "cell_type": "markdown",
   "id": "5b53439d",
   "metadata": {},
   "source": [
    "##### 추론통계(1-Sample)"
   ]
  },
  {
   "cell_type": "code",
   "execution_count": 12,
   "id": "eb3c7dca",
   "metadata": {},
   "outputs": [
    {
     "data": {
      "text/plain": [
       "<Axes: >"
      ]
     },
     "execution_count": 12,
     "metadata": {},
     "output_type": "execute_result"
    },
    {
     "data": {
      "image/png": "[encoded data removed]",
      "text/plain": [
       "<Figure size 640x480 with 1 Axes>"
      ]
     },
     "metadata": {},
     "output_type": "display_data"
    }
   ],
   "source": [
    "df = pd.DataFrame({'sample':[74.5,81.2,73.8,82.0,76.3,75.7,80.2,72.6,77.9,82.8]})\n",
    "\n",
    "df.boxplot(['sample'])"
   ]
  },
  {
   "cell_type": "code",
   "execution_count": 13,
   "id": "ad3246f1",
   "metadata": {},
   "outputs": [
    {
     "name": "stdout",
     "output_type": "stream",
     "text": [
      "statistic=0.9331594705581665, p-value=0.4796782433986664\n"
     ]
    }
   ],
   "source": [
    "statistic, p = stats.shapiro(df['sample'])\n",
    "print(\"statistic={}, p-value={}\".format(statistic,p))"
   ]
  },
  {
   "cell_type": "code",
   "execution_count": 14,
   "id": "782e966e",
   "metadata": {},
   "outputs": [
    {
     "name": "stdout",
     "output_type": "stream",
     "text": [
      "1-Sample t-test\n",
      "t 통계량 : [0.864]\n",
      "p-value : [0.41]\n"
     ]
    }
   ],
   "source": [
    "t_result=stats.ttest_1samp(df, 76.7)\n",
    "\n",
    "t,p=t_result.statistic.round(3), \\\n",
    "    t_result.pvalue.round(3)\n",
    "\n",
    "print(\"1-Sample t-test\")\n",
    "print(\"t 통계량 : {}\".format(t))\n",
    "print(\"p-value : {}\".format(p))"
   ]
  },
  {
   "cell_type": "markdown",
   "id": "bd45bbd2",
   "metadata": {},
   "source": [
    "##### 추론통계(2-Sample)"
   ]
  },
  {
   "cell_type": "code",
   "execution_count": 15,
   "id": "78adac57",
   "metadata": {},
   "outputs": [
    {
     "data": {
      "image/png": "[encoded data removed]",
      "text/plain": [
       "<Figure size 640x480 with 1 Axes>"
      ]
     },
     "metadata": {},
     "output_type": "display_data"
    }
   ],
   "source": [
    "df = pd.DataFrame({'A':[6,5,5,4,6,7,6,4,5,6,4,5,5,6,4,8,6,5,6,7],\n",
    "                  'B':[7,5,7,8,7,8,8,5,7,6,5,5,6,6,5,7,9,7,7,8]})\n",
    "df.boxplot(['A','B'])\n",
    "plt.show()"
   ]
  },
  {
   "cell_type": "code",
   "execution_count": 16,
   "id": "1916d59f",
   "metadata": {},
   "outputs": [
    {
     "name": "stdout",
     "output_type": "stream",
     "text": [
      "statistic=0.9094840288162231,p-value=0.06230909377336502\n"
     ]
    }
   ],
   "source": [
    "statistic,p=stats.shapiro(df['A'])\n",
    "print(\"statistic={},p-value={}\".format(statistic,p))"
   ]
  },
  {
   "cell_type": "code",
   "execution_count": 17,
   "id": "c99aa1ed",
   "metadata": {},
   "outputs": [
    {
     "name": "stdout",
     "output_type": "stream",
     "text": [
      "statistic=0.8978102207183838,p-value=0.03752618283033371\n"
     ]
    }
   ],
   "source": [
    "statistic,p=stats.shapiro(df['B'])\n",
    "print(\"statistic={},p-value={}\".format(statistic,p))"
   ]
  },
  {
   "cell_type": "code",
   "execution_count": 18,
   "id": "289691b5",
   "metadata": {},
   "outputs": [
    {
     "data": {
      "text/plain": [
       "BartlettResult(statistic=0.21583926701185108, pvalue=0.642228641630704)"
      ]
     },
     "execution_count": 18,
     "metadata": {},
     "output_type": "execute_result"
    }
   ],
   "source": [
    "stats.bartlett(df['A'],df['B'])"
   ]
  },
  {
   "cell_type": "code",
   "execution_count": 19,
   "id": "defd1757",
   "metadata": {},
   "outputs": [
    {
     "name": "stdout",
     "output_type": "stream",
     "text": [
      "2-Sample t-test\n",
      "t: -3.122\n",
      "p: 0.003\n"
     ]
    }
   ],
   "source": [
    "t_result = stats.ttest_ind(df['A'],df['B'])\n",
    "\n",
    "t,p=t_result.statistic.round(3),t_result.pvalue.round(3)\n",
    "\n",
    "print(\"2-Sample t-test\")\n",
    "print(\"t: {}\".format(t))\n",
    "print(\"p: {}\".format(p))\n"
   ]
  },
  {
   "cell_type": "markdown",
   "id": "8410f004",
   "metadata": {},
   "source": [
    "##### 추론통계(paired)"
   ]
  },
  {
   "cell_type": "code",
   "execution_count": 20,
   "id": "8bae40c7",
   "metadata": {},
   "outputs": [],
   "source": [
    "df1=pd.DataFrame({'before':[720,589,780,648,720,589,780,648,780,648]})\n",
    "df2=pd.DataFrame({'after':[810,670,790,712,810,670,790,712,790,712]})\n",
    "\n",
    "t_result=stats.ttest_rel(df1,df2)\n",
    "\n",
    "t,p = t_result.statistic.round(3),t_result.pvalue.round(3)"
   ]
  },
  {
   "cell_type": "code",
   "execution_count": 21,
   "id": "3d204504",
   "metadata": {},
   "outputs": [
    {
     "name": "stdout",
     "output_type": "stream",
     "text": [
      "Paired t-test\n",
      "t:[-5.324]\n",
      "p:[0.]\n"
     ]
    }
   ],
   "source": [
    "print(\"Paired t-test\")\n",
    "print(\"t:{}\".format(t))\n",
    "print(\"p:{}\".format(p))"
   ]
  },
  {
   "cell_type": "markdown",
   "id": "a5a021c0",
   "metadata": {},
   "source": [
    "##### 1 Proportion test"
   ]
  },
  {
   "cell_type": "code",
   "execution_count": 24,
   "id": "538032c9",
   "metadata": {},
   "outputs": [],
   "source": [
    "count = 15\n",
    "n_obs = 100\n",
    "value = 0.1\n",
    "\n",
    "stat,pval = proportions_ztest(count,n_obs,value)"
   ]
  },
  {
   "cell_type": "code",
   "execution_count": 25,
   "id": "9e06737d",
   "metadata": {},
   "outputs": [
    {
     "name": "stdout",
     "output_type": "stream",
     "text": [
      "1 Proportion test\n",
      "z:1.400\n",
      "p:0.161\n"
     ]
    }
   ],
   "source": [
    "print(\"1 Proportion test\")\n",
    "print('z:{0:0.3f}'.format(stat))\n",
    "print('p:{0:0.3f}'.format(pval))"
   ]
  },
  {
   "cell_type": "markdown",
   "id": "e1ea22e5",
   "metadata": {},
   "source": [
    "##### 2 Proportion test"
   ]
  },
  {
   "cell_type": "code",
   "execution_count": 27,
   "id": "ccaad9e0",
   "metadata": {},
   "outputs": [],
   "source": [
    "count = np.array([4,1])\n",
    "nobs = np.array([1000,1200])\n",
    "\n",
    "stat,pval = proportions_ztest(count,nobs)"
   ]
  },
  {
   "cell_type": "code",
   "execution_count": 28,
   "id": "45a98258",
   "metadata": {},
   "outputs": [
    {
     "name": "stdout",
     "output_type": "stream",
     "text": [
      "2 Proportion test\n",
      "z:1.553\n",
      "p:0.120\n"
     ]
    }
   ],
   "source": [
    "print(\"2 Proportion test\")\n",
    "print('z:{0:0.3f}'.format(stat))\n",
    "print('p:{0:0.3f}'.format(pval))"
   ]
  },
  {
   "cell_type": "markdown",
   "id": "276c8287",
   "metadata": {},
   "source": [
    "##### 카이제곱 검정"
   ]
  },
  {
   "cell_type": "code",
   "execution_count": 33,
   "id": "32b05262",
   "metadata": {},
   "outputs": [],
   "source": [
    "df = pd.DataFrame({'Work_1':[270,228,277],'Work_2':[260,285,284],\n",
    "                   'Work_3':[236,225,231],'Work_4':[234,262,208]})\n",
    "\n",
    "chi,pval,dof,expected = stats.chi2_contingency(df)"
   ]
  },
  {
   "cell_type": "code",
   "execution_count": 35,
   "id": "6fe040c7",
   "metadata": {},
   "outputs": [
    {
     "name": "stdout",
     "output_type": "stream",
     "text": [
      "chi-square test\n",
      "chisq:13.37\n",
      "p:0.038\n",
      "degree pf freedom:6\n",
      "expected value:[[258.3 276.3 230.7 234.7]\n",
      " [258.3 276.3 230.7 234.7]\n",
      " [258.3 276.3 230.7 234.7]]\n"
     ]
    }
   ],
   "source": [
    "print(\"chi-square test\")\n",
    "print('chisq:{0:0.2f}'.format(chi))\n",
    "print('p:{0:0.3f}'.format(pval))\n",
    "print('degree pf freedom:{}'.format(dof))\n",
    "print('expected value:{}'.format(expected.round(1)))"
   ]
  },
  {
   "cell_type": "markdown",
   "id": "1ef781a0",
   "metadata": {},
   "source": [
    "##### ANOVA"
   ]
  },
  {
   "cell_type": "code",
   "execution_count": 41,
   "id": "c8272312",
   "metadata": {},
   "outputs": [
    {
     "data": {
      "text/html": [
       "<div>\n",
       "<style scoped>\n",
       "    .dataframe tbody tr th:only-of-type {\n",
       "        vertical-align: middle;\n",
       "    }\n",
       "\n",
       "    .dataframe tbody tr th {\n",
       "        vertical-align: top;\n",
       "    }\n",
       "\n",
       "    .dataframe thead th {\n",
       "        text-align: right;\n",
       "    }\n",
       "</style>\n",
       "<table border=\"1\" class=\"dataframe\">\n",
       "  <thead>\n",
       "    <tr style=\"text-align: right;\">\n",
       "      <th></th>\n",
       "      <th>A</th>\n",
       "      <th>B</th>\n",
       "      <th>C</th>\n",
       "    </tr>\n",
       "  </thead>\n",
       "  <tbody>\n",
       "    <tr>\n",
       "      <th>0</th>\n",
       "      <td>892</td>\n",
       "      <td>721</td>\n",
       "      <td>621</td>\n",
       "    </tr>\n",
       "    <tr>\n",
       "      <th>1</th>\n",
       "      <td>623</td>\n",
       "      <td>821</td>\n",
       "      <td>915</td>\n",
       "    </tr>\n",
       "    <tr>\n",
       "      <th>2</th>\n",
       "      <td>721</td>\n",
       "      <td>910</td>\n",
       "      <td>888</td>\n",
       "    </tr>\n",
       "    <tr>\n",
       "      <th>3</th>\n",
       "      <td>678</td>\n",
       "      <td>678</td>\n",
       "      <td>721</td>\n",
       "    </tr>\n",
       "    <tr>\n",
       "      <th>4</th>\n",
       "      <td>723</td>\n",
       "      <td>723</td>\n",
       "      <td>894</td>\n",
       "    </tr>\n",
       "  </tbody>\n",
       "</table>\n",
       "</div>"
      ],
      "text/plain": [
       "     A    B    C\n",
       "0  892  721  621\n",
       "1  623  821  915\n",
       "2  721  910  888\n",
       "3  678  678  721\n",
       "4  723  723  894"
      ]
     },
     "execution_count": 41,
     "metadata": {},
     "output_type": "execute_result"
    }
   ],
   "source": [
    "df = pd.DataFrame({'A':[892,623,721,678,723,790,720,670,690,771],'B':[721,821,910,678,723,790,711,790,745,891],'C':[621,915,888,721,894,834,841,912,845,889]})\n",
    "df.head()"
   ]
  },
  {
   "cell_type": "code",
   "execution_count": 42,
   "id": "6538e12e",
   "metadata": {},
   "outputs": [
    {
     "data": {
      "image/png": "[encoded data removed]",
      "text/plain": [
       "<Figure size 640x480 with 1 Axes>"
      ]
     },
     "metadata": {},
     "output_type": "display_data"
    }
   ],
   "source": [
    "df.boxplot(['A','B','C'])\n",
    "plt.show()"
   ]
  },
  {
   "cell_type": "code",
   "execution_count": 38,
   "id": "8709a264",
   "metadata": {},
   "outputs": [
    {
     "name": "stdout",
     "output_type": "stream",
     "text": [
      "One-way\n",
      "F통계량 :4.263\n",
      "p-value :0.025\n"
     ]
    }
   ],
   "source": [
    "f_result=stats.f_oneway(df['A'],df['B'],df['C'])\n",
    "\n",
    "f,p=f_result.statistic.round(3),f_result.pvalue.round(3)\n",
    "\n",
    "print(\"One-way\")\n",
    "print(\"F통계량 :{}\".format(f))\n",
    "print(\"p-value :{}\".format(p))"
   ]
  },
  {
   "cell_type": "markdown",
   "id": "cbed0e56",
   "metadata": {},
   "source": [
    "##### 상관분석"
   ]
  },
  {
   "cell_type": "code",
   "execution_count": 39,
   "id": "71b6167c",
   "metadata": {},
   "outputs": [],
   "source": [
    "df1 = [1,2,3,4,4,5,6,6,7,8]\n",
    "df2 = [23,29,49,64,74,87,96,97,109,119]\n",
    "\n",
    "corr,pval=stats.pearsonr(df1,df2)"
   ]
  },
  {
   "cell_type": "code",
   "execution_count": 40,
   "id": "bda28178",
   "metadata": {},
   "outputs": [
    {
     "name": "stdout",
     "output_type": "stream",
     "text": [
      "Correlation Analysis\n",
      "corr:0.989\n",
      "p-value:0.000\n"
     ]
    }
   ],
   "source": [
    "print(\"Correlation Analysis\")\n",
    "print('corr:{0:0.3f}'.format(corr))\n",
    "print('p-value:{0:0.3f}'.format(pval))"
   ]
  },
  {
   "cell_type": "code",
   "execution_count": null,
   "id": "47dd88c0",
   "metadata": {},
   "outputs": [],
   "source": []
  }
 ],
 "metadata": {
  "kernelspec": {
   "display_name": "Python 3 (ipykernel)",
   "language": "python",
   "name": "python3"
  },
  "language_info": {
   "codemirror_mode": {
    "name": "ipython",
    "version": 3
   },
   "file_extension": ".py",
   "mimetype": "text/x-python",
   "name": "python",
   "nbconvert_exporter": "python",
   "pygments_lexer": "ipython3",
   "version": "3.10.9"
  }
 },
 "nbformat": 4,
 "nbformat_minor": 5
}
