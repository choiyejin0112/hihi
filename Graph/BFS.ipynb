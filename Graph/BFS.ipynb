{
 "cells": [
  {
   "cell_type": "code",
   "execution_count": null,
   "id": "4b8fcc37",
   "metadata": {},
   "outputs": [
    {
     "name": "stdout",
     "output_type": "stream",
     "text": [
      "3 \n",
      "4 4\n",
      "0 1\n",
      "0 3\n",
      "1 2\n",
      "1 3\n",
      "0 1 3 2 \n"
     ]
    }
   ],
   "source": [
    "from collections import deque\n",
    "T = int(input())\n",
    "for _ in range(T):\n",
    "    N,M = map(int,input().split())\n",
    "    List = [[] for _ in range(N)]\n",
    "    for i in range(M):\n",
    "        u,v = map(int,input().split())\n",
    "        List[u].append(v)\n",
    "    for i in range(N):\n",
    "        List[i].sort()\n",
    "        \n",
    "    Check = [False]*N #방문했는지 안 했는지 확인 \n",
    "    Queue = deque([0]) #큐\n",
    "    while Queue:\n",
    "        v =  Queue.popleft() # 큐에서 나오는 v\n",
    "        if Check[v] == True: # v가 이 시점에서 방문했다면\n",
    "            continue\n",
    "        Check[v] = True \n",
    "        print(v, end=\" \")\n",
    "        for i in List[v]: # v와 연결된 모든 정점 중\n",
    "            if Check[i] == False: # 아직 가지 않은 i가 있다면\n",
    "                Queue.append(i) # 큐에 push\n",
    "    print(\"\"면"
   ]
  },
  {
   "cell_type": "code",
   "execution_count": null,
   "id": "9075a379",
   "metadata": {},
   "outputs": [],
   "source": []
  }
 ],
 "metadata": {
  "kernelspec": {
   "display_name": "Python 3 (ipykernel)",
   "language": "python",
   "name": "python3"
  },
  "language_info": {
   "codemirror_mode": {
    "name": "ipython",
    "version": 3
   },
   "file_extension": ".py",
   "mimetype": "text/x-python",
   "name": "python",
   "nbconvert_exporter": "python",
   "pygments_lexer": "ipython3",
   "version": "3.10.9"
  }
 },
 "nbformat": 4,
 "nbformat_minor": 5
}
