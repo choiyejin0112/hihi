{
 "cells": [
  {
   "cell_type": "code",
   "execution_count": 1,
   "id": "e6abcec0",
   "metadata": {},
   "outputs": [
    {
     "name": "stdout",
     "output_type": "stream",
     "text": [
      "2\n",
      "4 4\n",
      "0 1\n",
      "0 3\n",
      "1 2\n",
      "1 3\n",
      "1 3\n",
      "0 2 3\n",
      "1\n",
      "0 1\n",
      "5 6\n",
      "0 1\n",
      "0 3\n",
      "0 4\n",
      "3 4\n",
      "1 4\n",
      "1 3\n",
      "1 3 4\n",
      "0 3 4\n",
      "\n",
      "0 1 4\n",
      "0 1 3\n"
     ]
    }
   ],
   "source": [
    "t = int(input())  \n",
    "for _ in range(t):\n",
    "    N, m = map(int, input().split())  \n",
    "    \n",
    "    List = [[] for _ in range(N)]\n",
    "\n",
    "    for i in range(m):\n",
    "        u, v = map(int, input().split())  \n",
    "        List[u].append(v)\n",
    "        List[v].append(u)\n",
    "\n",
    "    for i in range(N):\n",
    "        List[i].sort()\n",
    "        print(*List[i])"
   ]
  },
  {
   "cell_type": "code",
   "execution_count": null,
   "id": "4380de4c",
   "metadata": {},
   "outputs": [],
   "source": []
  }
 ],
 "metadata": {
  "kernelspec": {
   "display_name": "Python 3 (ipykernel)",
   "language": "python",
   "name": "python3"
  },
  "language_info": {
   "codemirror_mode": {
    "name": "ipython",
    "version": 3
   },
   "file_extension": ".py",
   "mimetype": "text/x-python",
   "name": "python",
   "nbconvert_exporter": "python",
   "pygments_lexer": "ipython3",
   "version": "3.10.9"
  }
 },
 "nbformat": 4,
 "nbformat_minor": 5
}
