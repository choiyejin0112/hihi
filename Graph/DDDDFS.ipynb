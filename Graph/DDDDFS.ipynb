{
 "cells": [
  {
   "cell_type": "code",
   "execution_count": null,
   "id": "29b07b83",
   "metadata": {
    "scrolled": true
   },
   "outputs": [
    {
     "name": "stdout",
     "output_type": "stream",
     "text": [
      "3\n",
      "4 4\n",
      "0 1\n",
      "0 3\n",
      "1 2\n",
      "1 3\n",
      "0 1 2 3 \n"
     ]
    }
   ],
   "source": [
    "# 재귀\n",
    "import sys\n",
    "sys.setrecursionlimit(1000000)\n",
    "\n",
    "def DFS(v,List,check):\n",
    "    print(v,end=\" \")\n",
    "    check[v] = True # v는 방문했으므로 표시 \n",
    "    for i in List[v]: # v와 연결된 모든 정점 중에서\n",
    "        if check[i] == False: # 아직 가지 않은 i가 있다면\n",
    "            DFS(i,List,check) # 바로 i에서 DFS를 다시 시작 \n",
    "            \n",
    "t = int(input())\n",
    "for _ in range(t):\n",
    "    N,M = map(int,input().split())\n",
    "    List = [[] for _ in range(N)]\n",
    "    for i in range(M):\n",
    "        u,v = map(int,input().split())\n",
    "        List[u].append(v)\n",
    "        List[v].append(u)\n",
    "    for i in range(N):\n",
    "        List[i].sort\n",
    "    \n",
    "    check = [False]*N # 방문 여부 확인을 위한 리스트  \n",
    "    DFS(0,List,check) # 0부터 DFS 시작\n",
    "    print(\"\")"
   ]
  },
  {
   "cell_type": "code",
   "execution_count": null,
   "id": "3da6c138",
   "metadata": {},
   "outputs": [],
   "source": [
    "# 스택 \n",
    "    \n",
    "t = int(input())\n",
    "for _ in range(t):\n",
    "    N,M = map(int,input().split())\n",
    "    List = [[] for _ in range(N)]\n",
    "    for i in range(M):\n",
    "        u,v = map(int,input().split())\n",
    "        List[u].append(v)\n",
    "        List[v].append(u)\n",
    "    for i in range(N):\n",
    "        List[i].sort(reverse = True)\n",
    "        \n",
    "    check = [False]*N   # 방문 여부 확인을 위한 리스트\n",
    "    Stack = [0]   # 스택 사용\n",
    "    while Stack:\n",
    "        v = Stack.pop()\n",
    "        if check[v] == True: # v가 이미 방문 되었다면\n",
    "            continue\n",
    "        check[v] = True\n",
    "        print(v,end=\" \")\n",
    "        for i in List[v]: # v와 연결된 모든 정점 중에\n",
    "            if check[i] == False: # 아직 가지 않은 i가 있다면 \n",
    "                Stack.append(i) # 스택에 i push\n",
    "            \n",
    "    print(\"\")\n"
   ]
  },
  {
   "cell_type": "code",
   "execution_count": null,
   "id": "dc4b8f30",
   "metadata": {},
   "outputs": [],
   "source": []
  }
 ],
 "metadata": {
  "kernelspec": {
   "display_name": "Python 3 (ipykernel)",
   "language": "python",
   "name": "python3"
  },
  "language_info": {
   "codemirror_mode": {
    "name": "ipython",
    "version": 3
   },
   "file_extension": ".py",
   "mimetype": "text/x-python",
   "name": "python",
   "nbconvert_exporter": "python",
   "pygments_lexer": "ipython3",
   "version": "3.10.9"
  }
 },
 "nbformat": 4,
 "nbformat_minor": 5
}
